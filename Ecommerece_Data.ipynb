{
  "nbformat": 4,
  "nbformat_minor": 0,
  "metadata": {
    "colab": {
      "name": "Ecommerece_Data.ipynb",
      "provenance": [],
      "include_colab_link": true
    },
    "kernelspec": {
      "name": "python3",
      "display_name": "Python 3"
    }
  },
  "cells": [
    {
      "cell_type": "markdown",
      "metadata": {
        "id": "view-in-github",
        "colab_type": "text"
      },
      "source": [
        "<a href=\"https://colab.research.google.com/github/bhadreshpsavani/ExploringDataScience/blob/master/Ecommerece_Data.ipynb\" target=\"_parent\"><img src=\"https://colab.research.google.com/assets/colab-badge.svg\" alt=\"Open In Colab\"/></a>"
      ]
    },
    {
      "cell_type": "markdown",
      "metadata": {
        "id": "gpuVwNglWW0W",
        "colab_type": "text"
      },
      "source": [
        "# Introduction to Exploratory Data Analysis (EDA):\n",
        "An approach to analyse and find characteristics and interesting patterns in the data\n",
        "\n",
        "1. Make Data in Representable\n",
        "2. Spot Anomaly\n",
        "3. Find Pattern\n",
        "4. Test Hypothesis\n",
        "\n",
        "Data Scientist roughly spend around 40-50% of their time in EDA"
      ]
    },
    {
      "cell_type": "markdown",
      "metadata": {
        "id": "YwQ2pgGh4rxy",
        "colab_type": "text"
      },
      "source": [
        "## 1. Import"
      ]
    },
    {
      "cell_type": "code",
      "metadata": {
        "id": "Ha58oQ9B4k2h",
        "colab_type": "code",
        "colab": {}
      },
      "source": [
        "import numpy as np\n",
        "import pandas as pd\n",
        "import seaborn as sns\n",
        "from scipy import stats as st #a scientific library for Python\n",
        "\n",
        "# to ignore warnings\n",
        "import warnings\n",
        "warnings.filterwarnings('ignore')"
      ],
      "execution_count": 120,
      "outputs": []
    },
    {
      "cell_type": "code",
      "metadata": {
        "id": "Bma7wkMmImJT",
        "colab_type": "code",
        "colab": {
          "base_uri": "https://localhost:8080/",
          "height": 34
        },
        "outputId": "9c29f4dd-6f9e-4ca4-d113-07ea116bd10a"
      },
      "source": [
        "from google.colab import drive\n",
        "drive.mount('/content/drive')"
      ],
      "execution_count": 121,
      "outputs": [
        {
          "output_type": "stream",
          "text": [
            "Drive already mounted at /content/drive; to attempt to forcibly remount, call drive.mount(\"/content/drive\", force_remount=True).\n"
          ],
          "name": "stdout"
        }
      ]
    },
    {
      "cell_type": "code",
      "metadata": {
        "id": "Bsa5kZRA402D",
        "colab_type": "code",
        "colab": {}
      },
      "source": [
        "df = pd.read_csv('/content/drive/My Drive/Colab Notebooks/Datasets/Ecommerce/processed_ecommerce_data.csv', index_col=0)"
      ],
      "execution_count": 122,
      "outputs": []
    },
    {
      "cell_type": "markdown",
      "metadata": {
        "id": "Z8pqz0yn5Iju",
        "colab_type": "text"
      },
      "source": [
        "## Step1. Analyse Features"
      ]
    },
    {
      "cell_type": "code",
      "metadata": {
        "id": "9_tqPHZQ47E8",
        "colab_type": "code",
        "colab": {
          "base_uri": "https://localhost:8080/",
          "height": 195
        },
        "outputId": "e8dbe5f9-6748-4331-99f6-9d160f10dcb8"
      },
      "source": [
        "df.head()"
      ],
      "execution_count": 123,
      "outputs": [
        {
          "output_type": "execute_result",
          "data": {
            "text/html": [
              "<div>\n",
              "<style scoped>\n",
              "    .dataframe tbody tr th:only-of-type {\n",
              "        vertical-align: middle;\n",
              "    }\n",
              "\n",
              "    .dataframe tbody tr th {\n",
              "        vertical-align: top;\n",
              "    }\n",
              "\n",
              "    .dataframe thead th {\n",
              "        text-align: right;\n",
              "    }\n",
              "</style>\n",
              "<table border=\"1\" class=\"dataframe\">\n",
              "  <thead>\n",
              "    <tr style=\"text-align: right;\">\n",
              "      <th></th>\n",
              "      <th>invoice_num</th>\n",
              "      <th>stock_code</th>\n",
              "      <th>description</th>\n",
              "      <th>quantity</th>\n",
              "      <th>invoice_date</th>\n",
              "      <th>unit_price</th>\n",
              "      <th>cust_id</th>\n",
              "      <th>country</th>\n",
              "    </tr>\n",
              "  </thead>\n",
              "  <tbody>\n",
              "    <tr>\n",
              "      <th>0</th>\n",
              "      <td>536365</td>\n",
              "      <td>85123A</td>\n",
              "      <td>white hanging heart t-light holder</td>\n",
              "      <td>6</td>\n",
              "      <td>12/1/2010 8:26</td>\n",
              "      <td>2.55</td>\n",
              "      <td>17850.0</td>\n",
              "      <td>United Kingdom</td>\n",
              "    </tr>\n",
              "    <tr>\n",
              "      <th>1</th>\n",
              "      <td>536365</td>\n",
              "      <td>71053</td>\n",
              "      <td>white metal lantern</td>\n",
              "      <td>6</td>\n",
              "      <td>12/1/2010 8:26</td>\n",
              "      <td>3.39</td>\n",
              "      <td>17850.0</td>\n",
              "      <td>United Kingdom</td>\n",
              "    </tr>\n",
              "    <tr>\n",
              "      <th>2</th>\n",
              "      <td>536365</td>\n",
              "      <td>84406B</td>\n",
              "      <td>cream cupid hearts coat hanger</td>\n",
              "      <td>8</td>\n",
              "      <td>12/1/2010 8:26</td>\n",
              "      <td>2.75</td>\n",
              "      <td>17850.0</td>\n",
              "      <td>United Kingdom</td>\n",
              "    </tr>\n",
              "    <tr>\n",
              "      <th>3</th>\n",
              "      <td>536365</td>\n",
              "      <td>84029G</td>\n",
              "      <td>knitted union flag hot water bottle</td>\n",
              "      <td>6</td>\n",
              "      <td>12/1/2010 8:26</td>\n",
              "      <td>3.39</td>\n",
              "      <td>17850.0</td>\n",
              "      <td>United Kingdom</td>\n",
              "    </tr>\n",
              "    <tr>\n",
              "      <th>4</th>\n",
              "      <td>536365</td>\n",
              "      <td>84029E</td>\n",
              "      <td>red woolly hottie white heart.</td>\n",
              "      <td>6</td>\n",
              "      <td>12/1/2010 8:26</td>\n",
              "      <td>3.39</td>\n",
              "      <td>17850.0</td>\n",
              "      <td>United Kingdom</td>\n",
              "    </tr>\n",
              "  </tbody>\n",
              "</table>\n",
              "</div>"
            ],
            "text/plain": [
              "   invoice_num stock_code  ...  cust_id         country\n",
              "0       536365     85123A  ...  17850.0  United Kingdom\n",
              "1       536365      71053  ...  17850.0  United Kingdom\n",
              "2       536365     84406B  ...  17850.0  United Kingdom\n",
              "3       536365     84029G  ...  17850.0  United Kingdom\n",
              "4       536365     84029E  ...  17850.0  United Kingdom\n",
              "\n",
              "[5 rows x 8 columns]"
            ]
          },
          "metadata": {
            "tags": []
          },
          "execution_count": 123
        }
      ]
    },
    {
      "cell_type": "code",
      "metadata": {
        "id": "Nk2vy2TB5FOs",
        "colab_type": "code",
        "colab": {
          "base_uri": "https://localhost:8080/",
          "height": 269
        },
        "outputId": "b4d463df-4ce5-422e-ec8e-2e1a4905a68b"
      },
      "source": [
        "df.info()"
      ],
      "execution_count": 124,
      "outputs": [
        {
          "output_type": "stream",
          "text": [
            "<class 'pandas.core.frame.DataFrame'>\n",
            "Int64Index: 392732 entries, 0 to 541908\n",
            "Data columns (total 8 columns):\n",
            " #   Column        Non-Null Count   Dtype  \n",
            "---  ------        --------------   -----  \n",
            " 0   invoice_num   392732 non-null  int64  \n",
            " 1   stock_code    392732 non-null  object \n",
            " 2   description   392732 non-null  object \n",
            " 3   quantity      392732 non-null  int64  \n",
            " 4   invoice_date  392732 non-null  object \n",
            " 5   unit_price    392732 non-null  float64\n",
            " 6   cust_id       392732 non-null  float64\n",
            " 7   country       392732 non-null  object \n",
            "dtypes: float64(2), int64(2), object(4)\n",
            "memory usage: 27.0+ MB\n"
          ],
          "name": "stdout"
        }
      ]
    },
    {
      "cell_type": "code",
      "metadata": {
        "id": "RtcMkzg3L_XE",
        "colab_type": "code",
        "colab": {
          "base_uri": "https://localhost:8080/",
          "height": 284
        },
        "outputId": "58df4c3e-cec1-4195-ae1d-2d3c7d8cc689"
      },
      "source": [
        "df.describe()"
      ],
      "execution_count": 125,
      "outputs": [
        {
          "output_type": "execute_result",
          "data": {
            "text/html": [
              "<div>\n",
              "<style scoped>\n",
              "    .dataframe tbody tr th:only-of-type {\n",
              "        vertical-align: middle;\n",
              "    }\n",
              "\n",
              "    .dataframe tbody tr th {\n",
              "        vertical-align: top;\n",
              "    }\n",
              "\n",
              "    .dataframe thead th {\n",
              "        text-align: right;\n",
              "    }\n",
              "</style>\n",
              "<table border=\"1\" class=\"dataframe\">\n",
              "  <thead>\n",
              "    <tr style=\"text-align: right;\">\n",
              "      <th></th>\n",
              "      <th>invoice_num</th>\n",
              "      <th>quantity</th>\n",
              "      <th>unit_price</th>\n",
              "      <th>cust_id</th>\n",
              "    </tr>\n",
              "  </thead>\n",
              "  <tbody>\n",
              "    <tr>\n",
              "      <th>count</th>\n",
              "      <td>392732.000000</td>\n",
              "      <td>392732.000000</td>\n",
              "      <td>392732.000000</td>\n",
              "      <td>392732.000000</td>\n",
              "    </tr>\n",
              "    <tr>\n",
              "      <th>mean</th>\n",
              "      <td>560591.072436</td>\n",
              "      <td>13.153718</td>\n",
              "      <td>3.125596</td>\n",
              "      <td>15287.734822</td>\n",
              "    </tr>\n",
              "    <tr>\n",
              "      <th>std</th>\n",
              "      <td>13087.116747</td>\n",
              "      <td>181.588420</td>\n",
              "      <td>22.240725</td>\n",
              "      <td>1713.567773</td>\n",
              "    </tr>\n",
              "    <tr>\n",
              "      <th>min</th>\n",
              "      <td>536365.000000</td>\n",
              "      <td>1.000000</td>\n",
              "      <td>0.000000</td>\n",
              "      <td>12346.000000</td>\n",
              "    </tr>\n",
              "    <tr>\n",
              "      <th>25%</th>\n",
              "      <td>549234.000000</td>\n",
              "      <td>2.000000</td>\n",
              "      <td>1.250000</td>\n",
              "      <td>13955.000000</td>\n",
              "    </tr>\n",
              "    <tr>\n",
              "      <th>50%</th>\n",
              "      <td>561874.000000</td>\n",
              "      <td>6.000000</td>\n",
              "      <td>1.950000</td>\n",
              "      <td>15150.000000</td>\n",
              "    </tr>\n",
              "    <tr>\n",
              "      <th>75%</th>\n",
              "      <td>572061.000000</td>\n",
              "      <td>12.000000</td>\n",
              "      <td>3.750000</td>\n",
              "      <td>16791.000000</td>\n",
              "    </tr>\n",
              "    <tr>\n",
              "      <th>max</th>\n",
              "      <td>581587.000000</td>\n",
              "      <td>80995.000000</td>\n",
              "      <td>8142.750000</td>\n",
              "      <td>18287.000000</td>\n",
              "    </tr>\n",
              "  </tbody>\n",
              "</table>\n",
              "</div>"
            ],
            "text/plain": [
              "         invoice_num       quantity     unit_price        cust_id\n",
              "count  392732.000000  392732.000000  392732.000000  392732.000000\n",
              "mean   560591.072436      13.153718       3.125596   15287.734822\n",
              "std     13087.116747     181.588420      22.240725    1713.567773\n",
              "min    536365.000000       1.000000       0.000000   12346.000000\n",
              "25%    549234.000000       2.000000       1.250000   13955.000000\n",
              "50%    561874.000000       6.000000       1.950000   15150.000000\n",
              "75%    572061.000000      12.000000       3.750000   16791.000000\n",
              "max    581587.000000   80995.000000    8142.750000   18287.000000"
            ]
          },
          "metadata": {
            "tags": []
          },
          "execution_count": 125
        }
      ]
    },
    {
      "cell_type": "code",
      "metadata": {
        "id": "3eLoW1lA5Ngg",
        "colab_type": "code",
        "colab": {
          "base_uri": "https://localhost:8080/",
          "height": 218
        },
        "outputId": "293fa6d3-a555-48d9-b7ab-f56a79fe21fb"
      },
      "source": [
        "df['stock_code'].value_counts()"
      ],
      "execution_count": 126,
      "outputs": [
        {
          "output_type": "execute_result",
          "data": {
            "text/plain": [
              "85123A    2023\n",
              "22423     1714\n",
              "85099B    1615\n",
              "84879     1395\n",
              "47566     1390\n",
              "          ... \n",
              "84705C       1\n",
              "90178B       1\n",
              "90026A       1\n",
              "90037B       1\n",
              "90118        1\n",
              "Name: stock_code, Length: 3665, dtype: int64"
            ]
          },
          "metadata": {
            "tags": []
          },
          "execution_count": 126
        }
      ]
    },
    {
      "cell_type": "code",
      "metadata": {
        "id": "UlP7BMGdKmbN",
        "colab_type": "code",
        "colab": {
          "base_uri": "https://localhost:8080/",
          "height": 218
        },
        "outputId": "3849121a-28b3-4179-fd73-0527cc952c57"
      },
      "source": [
        "df['description'].value_counts()"
      ],
      "execution_count": 127,
      "outputs": [
        {
          "output_type": "execute_result",
          "data": {
            "text/plain": [
              "white hanging heart t-light holder    2016\n",
              "regency cakestand 3 tier              1714\n",
              "jumbo bag red retrospot               1615\n",
              "assorted colour bird ornament         1395\n",
              "party bunting                         1390\n",
              "                                      ... \n",
              "big polkadot mug                         1\n",
              "set/5 red spotty lid glass bowls         1\n",
              "5 strand glass necklace amethyst         1\n",
              "orange/wht/fuschia stones necklace       1\n",
              "dotcomgiftshop tea towel                 1\n",
              "Name: description, Length: 3877, dtype: int64"
            ]
          },
          "metadata": {
            "tags": []
          },
          "execution_count": 127
        }
      ]
    },
    {
      "cell_type": "code",
      "metadata": {
        "id": "hPACzk0QGSLt",
        "colab_type": "code",
        "colab": {
          "base_uri": "https://localhost:8080/",
          "height": 218
        },
        "outputId": "7c3f6f33-55b3-4fa3-bd43-f0bce5978cb5"
      },
      "source": [
        "df['description'] = df['description'].str.lower()\n",
        "df['description'].value_counts()"
      ],
      "execution_count": 128,
      "outputs": [
        {
          "output_type": "execute_result",
          "data": {
            "text/plain": [
              "white hanging heart t-light holder    2016\n",
              "regency cakestand 3 tier              1714\n",
              "jumbo bag red retrospot               1615\n",
              "assorted colour bird ornament         1395\n",
              "party bunting                         1390\n",
              "                                      ... \n",
              "big polkadot mug                         1\n",
              "set/5 red spotty lid glass bowls         1\n",
              "5 strand glass necklace amethyst         1\n",
              "orange/wht/fuschia stones necklace       1\n",
              "dotcomgiftshop tea towel                 1\n",
              "Name: description, Length: 3877, dtype: int64"
            ]
          },
          "metadata": {
            "tags": []
          },
          "execution_count": 128
        }
      ]
    },
    {
      "cell_type": "code",
      "metadata": {
        "id": "ptHF3r7pKwgT",
        "colab_type": "code",
        "colab": {
          "base_uri": "https://localhost:8080/",
          "height": 672
        },
        "outputId": "096981ed-b272-4dfe-cff3-2bbb712fe7d5"
      },
      "source": [
        "print(len(df['country'].value_counts()))\n",
        "df['country'].value_counts()"
      ],
      "execution_count": 129,
      "outputs": [
        {
          "output_type": "stream",
          "text": [
            "37\n"
          ],
          "name": "stdout"
        },
        {
          "output_type": "execute_result",
          "data": {
            "text/plain": [
              "United Kingdom          349227\n",
              "Germany                   9027\n",
              "France                    8327\n",
              "EIRE                      7228\n",
              "Spain                     2480\n",
              "Netherlands               2363\n",
              "Belgium                   2031\n",
              "Switzerland               1842\n",
              "Portugal                  1453\n",
              "Australia                 1184\n",
              "Norway                    1072\n",
              "Italy                      758\n",
              "Channel Islands            747\n",
              "Finland                    685\n",
              "Cyprus                     603\n",
              "Sweden                     450\n",
              "Austria                    398\n",
              "Denmark                    380\n",
              "Poland                     330\n",
              "Japan                      321\n",
              "Israel                     245\n",
              "Unspecified                241\n",
              "Singapore                  222\n",
              "Iceland                    182\n",
              "USA                        179\n",
              "Canada                     151\n",
              "Greece                     145\n",
              "Malta                      112\n",
              "United Arab Emirates        68\n",
              "European Community          60\n",
              "RSA                         58\n",
              "Lebanon                     45\n",
              "Lithuania                   35\n",
              "Brazil                      32\n",
              "Czech Republic              25\n",
              "Bahrain                     17\n",
              "Saudi Arabia                 9\n",
              "Name: country, dtype: int64"
            ]
          },
          "metadata": {
            "tags": []
          },
          "execution_count": 129
        }
      ]
    },
    {
      "cell_type": "markdown",
      "metadata": {
        "id": "T5mMq6a8WIXh",
        "colab_type": "text"
      },
      "source": [
        "## Step2. Data Preprocessing:"
      ]
    },
    {
      "cell_type": "markdown",
      "metadata": {
        "id": "d2WQsVxoWUTH",
        "colab_type": "text"
      },
      "source": [
        "### i. Handle Incorrect Datatype:"
      ]
    },
    {
      "cell_type": "code",
      "metadata": {
        "id": "uMjQGhwQWhQu",
        "colab_type": "code",
        "colab": {}
      },
      "source": [
        "df.cust_id = df.cust_id.astype('int64')"
      ],
      "execution_count": 130,
      "outputs": []
    },
    {
      "cell_type": "code",
      "metadata": {
        "id": "X9hWBaLrbVh9",
        "colab_type": "code",
        "colab": {}
      },
      "source": [
        "# change the invoice_date format - String to Timestamp format\n",
        "df['invoice_date'] = pd.to_datetime(df['invoice_date'], format='%m/%d/%Y %H:%M')"
      ],
      "execution_count": 131,
      "outputs": []
    },
    {
      "cell_type": "code",
      "metadata": {
        "id": "Y-nnjLK0FXk9",
        "colab_type": "code",
        "colab": {
          "base_uri": "https://localhost:8080/",
          "height": 269
        },
        "outputId": "533612da-f866-4db3-df4f-a6d150bc0412"
      },
      "source": [
        "df.info()"
      ],
      "execution_count": 132,
      "outputs": [
        {
          "output_type": "stream",
          "text": [
            "<class 'pandas.core.frame.DataFrame'>\n",
            "Int64Index: 392732 entries, 0 to 541908\n",
            "Data columns (total 8 columns):\n",
            " #   Column        Non-Null Count   Dtype         \n",
            "---  ------        --------------   -----         \n",
            " 0   invoice_num   392732 non-null  int64         \n",
            " 1   stock_code    392732 non-null  object        \n",
            " 2   description   392732 non-null  object        \n",
            " 3   quantity      392732 non-null  int64         \n",
            " 4   invoice_date  392732 non-null  datetime64[ns]\n",
            " 5   unit_price    392732 non-null  float64       \n",
            " 6   cust_id       392732 non-null  int64         \n",
            " 7   country       392732 non-null  object        \n",
            "dtypes: datetime64[ns](1), float64(1), int64(3), object(3)\n",
            "memory usage: 27.0+ MB\n"
          ],
          "name": "stdout"
        }
      ]
    },
    {
      "cell_type": "markdown",
      "metadata": {
        "id": "B5nK7YFRGppt",
        "colab_type": "text"
      },
      "source": [
        "### ii. Add Columns related to Date"
      ]
    },
    {
      "cell_type": "code",
      "metadata": {
        "id": "QPyvazkFFkwr",
        "colab_type": "code",
        "colab": {
          "base_uri": "https://localhost:8080/",
          "height": 195
        },
        "outputId": "7972888b-a6b7-4177-d0c8-b4ac694fe138"
      },
      "source": [
        "df['invoice_day'] = df['invoice_date'].dt.day\n",
        "df['invoice_day_of_week'] = df['invoice_date'].dt.dayofweek\n",
        "df['invoice_month'] = df['invoice_date'].dt.month\n",
        "df['invoice_hour'] = df['invoice_date'].dt.hour\n",
        "df.head()"
      ],
      "execution_count": 133,
      "outputs": [
        {
          "output_type": "execute_result",
          "data": {
            "text/html": [
              "<div>\n",
              "<style scoped>\n",
              "    .dataframe tbody tr th:only-of-type {\n",
              "        vertical-align: middle;\n",
              "    }\n",
              "\n",
              "    .dataframe tbody tr th {\n",
              "        vertical-align: top;\n",
              "    }\n",
              "\n",
              "    .dataframe thead th {\n",
              "        text-align: right;\n",
              "    }\n",
              "</style>\n",
              "<table border=\"1\" class=\"dataframe\">\n",
              "  <thead>\n",
              "    <tr style=\"text-align: right;\">\n",
              "      <th></th>\n",
              "      <th>invoice_num</th>\n",
              "      <th>stock_code</th>\n",
              "      <th>description</th>\n",
              "      <th>quantity</th>\n",
              "      <th>invoice_date</th>\n",
              "      <th>unit_price</th>\n",
              "      <th>cust_id</th>\n",
              "      <th>country</th>\n",
              "      <th>invoice_day</th>\n",
              "      <th>invoice_day_of_week</th>\n",
              "      <th>invoice_month</th>\n",
              "      <th>invoice_hour</th>\n",
              "    </tr>\n",
              "  </thead>\n",
              "  <tbody>\n",
              "    <tr>\n",
              "      <th>0</th>\n",
              "      <td>536365</td>\n",
              "      <td>85123A</td>\n",
              "      <td>white hanging heart t-light holder</td>\n",
              "      <td>6</td>\n",
              "      <td>2010-12-01 08:26:00</td>\n",
              "      <td>2.55</td>\n",
              "      <td>17850</td>\n",
              "      <td>United Kingdom</td>\n",
              "      <td>1</td>\n",
              "      <td>2</td>\n",
              "      <td>12</td>\n",
              "      <td>8</td>\n",
              "    </tr>\n",
              "    <tr>\n",
              "      <th>1</th>\n",
              "      <td>536365</td>\n",
              "      <td>71053</td>\n",
              "      <td>white metal lantern</td>\n",
              "      <td>6</td>\n",
              "      <td>2010-12-01 08:26:00</td>\n",
              "      <td>3.39</td>\n",
              "      <td>17850</td>\n",
              "      <td>United Kingdom</td>\n",
              "      <td>1</td>\n",
              "      <td>2</td>\n",
              "      <td>12</td>\n",
              "      <td>8</td>\n",
              "    </tr>\n",
              "    <tr>\n",
              "      <th>2</th>\n",
              "      <td>536365</td>\n",
              "      <td>84406B</td>\n",
              "      <td>cream cupid hearts coat hanger</td>\n",
              "      <td>8</td>\n",
              "      <td>2010-12-01 08:26:00</td>\n",
              "      <td>2.75</td>\n",
              "      <td>17850</td>\n",
              "      <td>United Kingdom</td>\n",
              "      <td>1</td>\n",
              "      <td>2</td>\n",
              "      <td>12</td>\n",
              "      <td>8</td>\n",
              "    </tr>\n",
              "    <tr>\n",
              "      <th>3</th>\n",
              "      <td>536365</td>\n",
              "      <td>84029G</td>\n",
              "      <td>knitted union flag hot water bottle</td>\n",
              "      <td>6</td>\n",
              "      <td>2010-12-01 08:26:00</td>\n",
              "      <td>3.39</td>\n",
              "      <td>17850</td>\n",
              "      <td>United Kingdom</td>\n",
              "      <td>1</td>\n",
              "      <td>2</td>\n",
              "      <td>12</td>\n",
              "      <td>8</td>\n",
              "    </tr>\n",
              "    <tr>\n",
              "      <th>4</th>\n",
              "      <td>536365</td>\n",
              "      <td>84029E</td>\n",
              "      <td>red woolly hottie white heart.</td>\n",
              "      <td>6</td>\n",
              "      <td>2010-12-01 08:26:00</td>\n",
              "      <td>3.39</td>\n",
              "      <td>17850</td>\n",
              "      <td>United Kingdom</td>\n",
              "      <td>1</td>\n",
              "      <td>2</td>\n",
              "      <td>12</td>\n",
              "      <td>8</td>\n",
              "    </tr>\n",
              "  </tbody>\n",
              "</table>\n",
              "</div>"
            ],
            "text/plain": [
              "   invoice_num stock_code  ... invoice_month  invoice_hour\n",
              "0       536365     85123A  ...            12             8\n",
              "1       536365      71053  ...            12             8\n",
              "2       536365     84406B  ...            12             8\n",
              "3       536365     84029G  ...            12             8\n",
              "4       536365     84029E  ...            12             8\n",
              "\n",
              "[5 rows x 12 columns]"
            ]
          },
          "metadata": {
            "tags": []
          },
          "execution_count": 133
        }
      ]
    },
    {
      "cell_type": "code",
      "metadata": {
        "id": "QB25_vkPZdmU",
        "colab_type": "code",
        "colab": {}
      },
      "source": [
        "days_of_week = {0:\"Monday\", 1:\"Tuesday\", 2:\"Wendesday\", 3:\"Thursday\", 4:\"Friday\" , 5:\"Saturday\", 6:\"Sunday\"}"
      ],
      "execution_count": 134,
      "outputs": []
    },
    {
      "cell_type": "code",
      "metadata": {
        "id": "T4FMt3caZ7Ug",
        "colab_type": "code",
        "colab": {
          "base_uri": "https://localhost:8080/",
          "height": 195
        },
        "outputId": "d3af9620-eebc-40d1-ebc1-5669ccb70e41"
      },
      "source": [
        "df['invoice_day_of_week'] = df['invoice_day_of_week'].apply(lambda item: days_of_week[item])\n",
        "df.head()"
      ],
      "execution_count": 135,
      "outputs": [
        {
          "output_type": "execute_result",
          "data": {
            "text/html": [
              "<div>\n",
              "<style scoped>\n",
              "    .dataframe tbody tr th:only-of-type {\n",
              "        vertical-align: middle;\n",
              "    }\n",
              "\n",
              "    .dataframe tbody tr th {\n",
              "        vertical-align: top;\n",
              "    }\n",
              "\n",
              "    .dataframe thead th {\n",
              "        text-align: right;\n",
              "    }\n",
              "</style>\n",
              "<table border=\"1\" class=\"dataframe\">\n",
              "  <thead>\n",
              "    <tr style=\"text-align: right;\">\n",
              "      <th></th>\n",
              "      <th>invoice_num</th>\n",
              "      <th>stock_code</th>\n",
              "      <th>description</th>\n",
              "      <th>quantity</th>\n",
              "      <th>invoice_date</th>\n",
              "      <th>unit_price</th>\n",
              "      <th>cust_id</th>\n",
              "      <th>country</th>\n",
              "      <th>invoice_day</th>\n",
              "      <th>invoice_day_of_week</th>\n",
              "      <th>invoice_month</th>\n",
              "      <th>invoice_hour</th>\n",
              "    </tr>\n",
              "  </thead>\n",
              "  <tbody>\n",
              "    <tr>\n",
              "      <th>0</th>\n",
              "      <td>536365</td>\n",
              "      <td>85123A</td>\n",
              "      <td>white hanging heart t-light holder</td>\n",
              "      <td>6</td>\n",
              "      <td>2010-12-01 08:26:00</td>\n",
              "      <td>2.55</td>\n",
              "      <td>17850</td>\n",
              "      <td>United Kingdom</td>\n",
              "      <td>1</td>\n",
              "      <td>Wendesday</td>\n",
              "      <td>12</td>\n",
              "      <td>8</td>\n",
              "    </tr>\n",
              "    <tr>\n",
              "      <th>1</th>\n",
              "      <td>536365</td>\n",
              "      <td>71053</td>\n",
              "      <td>white metal lantern</td>\n",
              "      <td>6</td>\n",
              "      <td>2010-12-01 08:26:00</td>\n",
              "      <td>3.39</td>\n",
              "      <td>17850</td>\n",
              "      <td>United Kingdom</td>\n",
              "      <td>1</td>\n",
              "      <td>Wendesday</td>\n",
              "      <td>12</td>\n",
              "      <td>8</td>\n",
              "    </tr>\n",
              "    <tr>\n",
              "      <th>2</th>\n",
              "      <td>536365</td>\n",
              "      <td>84406B</td>\n",
              "      <td>cream cupid hearts coat hanger</td>\n",
              "      <td>8</td>\n",
              "      <td>2010-12-01 08:26:00</td>\n",
              "      <td>2.75</td>\n",
              "      <td>17850</td>\n",
              "      <td>United Kingdom</td>\n",
              "      <td>1</td>\n",
              "      <td>Wendesday</td>\n",
              "      <td>12</td>\n",
              "      <td>8</td>\n",
              "    </tr>\n",
              "    <tr>\n",
              "      <th>3</th>\n",
              "      <td>536365</td>\n",
              "      <td>84029G</td>\n",
              "      <td>knitted union flag hot water bottle</td>\n",
              "      <td>6</td>\n",
              "      <td>2010-12-01 08:26:00</td>\n",
              "      <td>3.39</td>\n",
              "      <td>17850</td>\n",
              "      <td>United Kingdom</td>\n",
              "      <td>1</td>\n",
              "      <td>Wendesday</td>\n",
              "      <td>12</td>\n",
              "      <td>8</td>\n",
              "    </tr>\n",
              "    <tr>\n",
              "      <th>4</th>\n",
              "      <td>536365</td>\n",
              "      <td>84029E</td>\n",
              "      <td>red woolly hottie white heart.</td>\n",
              "      <td>6</td>\n",
              "      <td>2010-12-01 08:26:00</td>\n",
              "      <td>3.39</td>\n",
              "      <td>17850</td>\n",
              "      <td>United Kingdom</td>\n",
              "      <td>1</td>\n",
              "      <td>Wendesday</td>\n",
              "      <td>12</td>\n",
              "      <td>8</td>\n",
              "    </tr>\n",
              "  </tbody>\n",
              "</table>\n",
              "</div>"
            ],
            "text/plain": [
              "   invoice_num stock_code  ... invoice_month  invoice_hour\n",
              "0       536365     85123A  ...            12             8\n",
              "1       536365      71053  ...            12             8\n",
              "2       536365     84406B  ...            12             8\n",
              "3       536365     84029G  ...            12             8\n",
              "4       536365     84029E  ...            12             8\n",
              "\n",
              "[5 rows x 12 columns]"
            ]
          },
          "metadata": {
            "tags": []
          },
          "execution_count": 135
        }
      ]
    },
    {
      "cell_type": "markdown",
      "metadata": {
        "id": "71-VLNvqJ885",
        "colab_type": "text"
      },
      "source": [
        "### iii. Calculate Total Amount:"
      ]
    },
    {
      "cell_type": "code",
      "metadata": {
        "id": "-vZn6YNzJpV0",
        "colab_type": "code",
        "colab": {}
      },
      "source": [
        "df['total_amount'] = df['quantity'] * df['unit_price']"
      ],
      "execution_count": 136,
      "outputs": []
    },
    {
      "cell_type": "code",
      "metadata": {
        "id": "LLFT6lOKcpV5",
        "colab_type": "code",
        "colab": {
          "base_uri": "https://localhost:8080/",
          "height": 279
        },
        "outputId": "23b09a27-ca87-4da1-d7bc-3915dbd42390"
      },
      "source": [
        "df.head()"
      ],
      "execution_count": 137,
      "outputs": [
        {
          "output_type": "execute_result",
          "data": {
            "text/html": [
              "<div>\n",
              "<style scoped>\n",
              "    .dataframe tbody tr th:only-of-type {\n",
              "        vertical-align: middle;\n",
              "    }\n",
              "\n",
              "    .dataframe tbody tr th {\n",
              "        vertical-align: top;\n",
              "    }\n",
              "\n",
              "    .dataframe thead th {\n",
              "        text-align: right;\n",
              "    }\n",
              "</style>\n",
              "<table border=\"1\" class=\"dataframe\">\n",
              "  <thead>\n",
              "    <tr style=\"text-align: right;\">\n",
              "      <th></th>\n",
              "      <th>invoice_num</th>\n",
              "      <th>stock_code</th>\n",
              "      <th>description</th>\n",
              "      <th>quantity</th>\n",
              "      <th>invoice_date</th>\n",
              "      <th>unit_price</th>\n",
              "      <th>cust_id</th>\n",
              "      <th>country</th>\n",
              "      <th>invoice_day</th>\n",
              "      <th>invoice_day_of_week</th>\n",
              "      <th>invoice_month</th>\n",
              "      <th>invoice_hour</th>\n",
              "      <th>total_amount</th>\n",
              "    </tr>\n",
              "  </thead>\n",
              "  <tbody>\n",
              "    <tr>\n",
              "      <th>0</th>\n",
              "      <td>536365</td>\n",
              "      <td>85123A</td>\n",
              "      <td>white hanging heart t-light holder</td>\n",
              "      <td>6</td>\n",
              "      <td>2010-12-01 08:26:00</td>\n",
              "      <td>2.55</td>\n",
              "      <td>17850</td>\n",
              "      <td>United Kingdom</td>\n",
              "      <td>1</td>\n",
              "      <td>Wendesday</td>\n",
              "      <td>12</td>\n",
              "      <td>8</td>\n",
              "      <td>15.30</td>\n",
              "    </tr>\n",
              "    <tr>\n",
              "      <th>1</th>\n",
              "      <td>536365</td>\n",
              "      <td>71053</td>\n",
              "      <td>white metal lantern</td>\n",
              "      <td>6</td>\n",
              "      <td>2010-12-01 08:26:00</td>\n",
              "      <td>3.39</td>\n",
              "      <td>17850</td>\n",
              "      <td>United Kingdom</td>\n",
              "      <td>1</td>\n",
              "      <td>Wendesday</td>\n",
              "      <td>12</td>\n",
              "      <td>8</td>\n",
              "      <td>20.34</td>\n",
              "    </tr>\n",
              "    <tr>\n",
              "      <th>2</th>\n",
              "      <td>536365</td>\n",
              "      <td>84406B</td>\n",
              "      <td>cream cupid hearts coat hanger</td>\n",
              "      <td>8</td>\n",
              "      <td>2010-12-01 08:26:00</td>\n",
              "      <td>2.75</td>\n",
              "      <td>17850</td>\n",
              "      <td>United Kingdom</td>\n",
              "      <td>1</td>\n",
              "      <td>Wendesday</td>\n",
              "      <td>12</td>\n",
              "      <td>8</td>\n",
              "      <td>22.00</td>\n",
              "    </tr>\n",
              "    <tr>\n",
              "      <th>3</th>\n",
              "      <td>536365</td>\n",
              "      <td>84029G</td>\n",
              "      <td>knitted union flag hot water bottle</td>\n",
              "      <td>6</td>\n",
              "      <td>2010-12-01 08:26:00</td>\n",
              "      <td>3.39</td>\n",
              "      <td>17850</td>\n",
              "      <td>United Kingdom</td>\n",
              "      <td>1</td>\n",
              "      <td>Wendesday</td>\n",
              "      <td>12</td>\n",
              "      <td>8</td>\n",
              "      <td>20.34</td>\n",
              "    </tr>\n",
              "    <tr>\n",
              "      <th>4</th>\n",
              "      <td>536365</td>\n",
              "      <td>84029E</td>\n",
              "      <td>red woolly hottie white heart.</td>\n",
              "      <td>6</td>\n",
              "      <td>2010-12-01 08:26:00</td>\n",
              "      <td>3.39</td>\n",
              "      <td>17850</td>\n",
              "      <td>United Kingdom</td>\n",
              "      <td>1</td>\n",
              "      <td>Wendesday</td>\n",
              "      <td>12</td>\n",
              "      <td>8</td>\n",
              "      <td>20.34</td>\n",
              "    </tr>\n",
              "  </tbody>\n",
              "</table>\n",
              "</div>"
            ],
            "text/plain": [
              "   invoice_num stock_code  ... invoice_hour  total_amount\n",
              "0       536365     85123A  ...            8         15.30\n",
              "1       536365      71053  ...            8         20.34\n",
              "2       536365     84406B  ...            8         22.00\n",
              "3       536365     84029G  ...            8         20.34\n",
              "4       536365     84029E  ...            8         20.34\n",
              "\n",
              "[5 rows x 13 columns]"
            ]
          },
          "metadata": {
            "tags": []
          },
          "execution_count": 137
        }
      ]
    },
    {
      "cell_type": "markdown",
      "metadata": {
        "id": "LokbLRFcdmxT",
        "colab_type": "text"
      },
      "source": [
        "## Step3. Data Analysis:"
      ]
    },
    {
      "cell_type": "markdown",
      "metadata": {
        "id": "mFW57BdoyGIj",
        "colab_type": "text"
      },
      "source": [
        "### 1. Identify Outliers:\n",
        "Histogram is a graph which shows us how many time perticular values appear in the dataset. It is similar to `value_counts()`."
      ]
    },
    {
      "cell_type": "code",
      "metadata": {
        "id": "ySgLhZHVyQo1",
        "colab_type": "code",
        "colab": {
          "base_uri": "https://localhost:8080/",
          "height": 282
        },
        "outputId": "5e8792eb-d142-4670-bb23-730a7f96d74c"
      },
      "source": [
        "df['total_amount'].hist(bins=100, range=(0,500))"
      ],
      "execution_count": 138,
      "outputs": [
        {
          "output_type": "execute_result",
          "data": {
            "text/plain": [
              "<matplotlib.axes._subplots.AxesSubplot at 0x7f70802e3908>"
            ]
          },
          "metadata": {
            "tags": []
          },
          "execution_count": 138
        },
        {
          "output_type": "display_data",
          "data": {
            "image/png": "[encoded data removed]",
            "text/plain": [
              "<Figure size 432x288 with 1 Axes>"
            ]
          },
          "metadata": {
            "tags": [],
            "needs_background": "light"
          }
        }
      ]
    },
    {
      "cell_type": "code",
      "metadata": {
        "id": "Pg3fyvhP1IMD",
        "colab_type": "code",
        "colab": {
          "base_uri": "https://localhost:8080/",
          "height": 297
        },
        "outputId": "dfcba19a-9529-4a88-f7d1-ce55416c8713"
      },
      "source": [
        "sns.distplot(df.query('total_amount<100')['total_amount'])"
      ],
      "execution_count": 139,
      "outputs": [
        {
          "output_type": "execute_result",
          "data": {
            "text/plain": [
              "<matplotlib.axes._subplots.AxesSubplot at 0x7f707e2bacc0>"
            ]
          },
          "metadata": {
            "tags": []
          },
          "execution_count": 139
        },
        {
          "output_type": "display_data",
          "data": {
            "image/png": "[encoded data removed]",
            "text/plain": [
              "<Figure size 432x288 with 1 Axes>"
            ]
          },
          "metadata": {
            "tags": [],
            "needs_background": "light"
          }
        }
      ]
    },
    {
      "cell_type": "code",
      "metadata": {
        "id": "KqlMfOS8yMmO",
        "colab_type": "code",
        "colab": {
          "base_uri": "https://localhost:8080/",
          "height": 283
        },
        "outputId": "a1559178-0ae8-45d0-e69b-c2998a9e7420"
      },
      "source": [
        "df.query('total_amount<50').boxplot(column='total_amount')"
      ],
      "execution_count": 140,
      "outputs": [
        {
          "output_type": "execute_result",
          "data": {
            "text/plain": [
              "<matplotlib.axes._subplots.AxesSubplot at 0x7f707e265908>"
            ]
          },
          "metadata": {
            "tags": []
          },
          "execution_count": 140
        },
        {
          "output_type": "display_data",
          "data": {
            "image/png": "[encoded data removed]",
            "text/plain": [
              "<Figure size 432x288 with 1 Axes>"
            ]
          },
          "metadata": {
            "tags": [],
            "needs_background": "light"
          }
        }
      ]
    },
    {
      "cell_type": "markdown",
      "metadata": {
        "id": "fhqUOwLSBTLQ",
        "colab_type": "text"
      },
      "source": [
        "### Price Analysis:"
      ]
    },
    {
      "cell_type": "markdown",
      "metadata": {
        "id": "FtMgYru4Fe3N",
        "colab_type": "text"
      },
      "source": [
        "#### 1. country wise average profit per order"
      ]
    },
    {
      "cell_type": "code",
      "metadata": {
        "id": "jFC42DzOPQ_6",
        "colab_type": "code",
        "colab": {
          "base_uri": "https://localhost:8080/",
          "height": 282
        },
        "outputId": "426b5aab-a46b-424c-8d85-6b5ffda9f231"
      },
      "source": [
        "df.groupby('country')['total_amount'].mean().sort_values(ascending=False).head(15).plot.barh()"
      ],
      "execution_count": 141,
      "outputs": [
        {
          "output_type": "execute_result",
          "data": {
            "text/plain": [
              "<matplotlib.axes._subplots.AxesSubplot at 0x7f707e181fd0>"
            ]
          },
          "metadata": {
            "tags": []
          },
          "execution_count": 141
        },
        {
          "output_type": "display_data",
          "data": {
            "image/png": "[encoded data removed]",
            "text/plain": [
              "<Figure size 432x288 with 1 Axes>"
            ]
          },
          "metadata": {
            "tags": [],
            "needs_background": "light"
          }
        }
      ]
    },
    {
      "cell_type": "code",
      "metadata": {
        "id": "GAYr73-TBWoH",
        "colab_type": "code",
        "colab": {
          "base_uri": "https://localhost:8080/",
          "height": 282
        },
        "outputId": "7e9f59d2-9206-499c-cb32-390b945e3ec9"
      },
      "source": [
        "df.pivot_table(index='country', values=['total_amount'], aggfunc='mean').sort_values(by='total_amount', ascending=False).head(15).plot.barh()"
      ],
      "execution_count": 142,
      "outputs": [
        {
          "output_type": "execute_result",
          "data": {
            "text/plain": [
              "<matplotlib.axes._subplots.AxesSubplot at 0x7f707e1814e0>"
            ]
          },
          "metadata": {
            "tags": []
          },
          "execution_count": 142
        },
        {
          "output_type": "display_data",
          "data": {
            "image/png": "[encoded data removed]",
            "text/plain": [
              "<Figure size 432x288 with 1 Axes>"
            ]
          },
          "metadata": {
            "tags": [],
            "needs_background": "light"
          }
        }
      ]
    },
    {
      "cell_type": "markdown",
      "metadata": {
        "id": "qnaZhkMNlDw8",
        "colab_type": "text"
      },
      "source": [
        "#### 2. What is Month wise total profit per order?"
      ]
    },
    {
      "cell_type": "code",
      "metadata": {
        "id": "aKe4hksRb1ZR",
        "colab_type": "code",
        "colab": {
          "base_uri": "https://localhost:8080/",
          "height": 311
        },
        "outputId": "1b69e482-be00-421d-ecd2-6cdae28959e8"
      },
      "source": [
        "df.groupby('invoice_month')['total_amount'].sum().plot.bar()"
      ],
      "execution_count": 143,
      "outputs": [
        {
          "output_type": "execute_result",
          "data": {
            "text/plain": [
              "<matplotlib.axes._subplots.AxesSubplot at 0x7f707e0a16a0>"
            ]
          },
          "metadata": {
            "tags": []
          },
          "execution_count": 143
        },
        {
          "output_type": "display_data",
          "data": {
            "image/png": "[encoded data removed]",
            "text/plain": [
              "<Figure size 432x288 with 1 Axes>"
            ]
          },
          "metadata": {
            "tags": [],
            "needs_background": "light"
          }
        }
      ]
    },
    {
      "cell_type": "code",
      "metadata": {
        "id": "hPn9mqbwkwy4",
        "colab_type": "code",
        "colab": {
          "base_uri": "https://localhost:8080/",
          "height": 311
        },
        "outputId": "39c82288-9a6f-438a-ceb2-16aa6a7285de"
      },
      "source": [
        "df.pivot_table(index='invoice_month', values='total_amount', aggfunc='sum').plot.bar()"
      ],
      "execution_count": 144,
      "outputs": [
        {
          "output_type": "execute_result",
          "data": {
            "text/plain": [
              "<matplotlib.axes._subplots.AxesSubplot at 0x7f707dfb5c88>"
            ]
          },
          "metadata": {
            "tags": []
          },
          "execution_count": 144
        },
        {
          "output_type": "display_data",
          "data": {
            "image/png": "[encoded data removed]",
            "text/plain": [
              "<Figure size 432x288 with 1 Axes>"
            ]
          },
          "metadata": {
            "tags": [],
            "needs_background": "light"
          }
        }
      ]
    },
    {
      "cell_type": "markdown",
      "metadata": {
        "id": "RCdudMge4TzB",
        "colab_type": "text"
      },
      "source": [
        "### Order Analysis"
      ]
    },
    {
      "cell_type": "markdown",
      "metadata": {
        "id": "ejkf6yEgePGN",
        "colab_type": "text"
      },
      "source": [
        "#### 1. Distributions of orders in each country?"
      ]
    },
    {
      "cell_type": "code",
      "metadata": {
        "id": "6L6gtvwacQ0l",
        "colab_type": "code",
        "colab": {
          "base_uri": "https://localhost:8080/",
          "height": 880
        },
        "outputId": "dee4382c-55dd-4ace-8685-6143a5c0be3b"
      },
      "source": [
        "df.groupby('country')['invoice_num'].count().sort_values().plot.barh(figsize=(10, 15))\n",
        "# df.pivot_table(index='country', values='invoice_num', aggfunc='count').sort_values(by='invoice_num').plot.barh(figsize=(10, 15))"
      ],
      "execution_count": 145,
      "outputs": [
        {
          "output_type": "execute_result",
          "data": {
            "text/plain": [
              "<matplotlib.axes._subplots.AxesSubplot at 0x7f707dfcd2e8>"
            ]
          },
          "metadata": {
            "tags": []
          },
          "execution_count": 145
        },
        {
          "output_type": "display_data",
          "data": {
            "image/png": "[encoded data removed]",
            "text/plain": [
              "<Figure size 720x1080 with 1 Axes>"
            ]
          },
          "metadata": {
            "tags": [],
            "needs_background": "light"
          }
        }
      ]
    },
    {
      "cell_type": "markdown",
      "metadata": {
        "id": "V8JUxnPHjn0X",
        "colab_type": "text"
      },
      "source": [
        "#### 2. In Which month We got maximum orders?"
      ]
    },
    {
      "cell_type": "code",
      "metadata": {
        "id": "g5VKg4NEiNC7",
        "colab_type": "code",
        "colab": {
          "base_uri": "https://localhost:8080/",
          "height": 300
        },
        "outputId": "5628726d-2eeb-4979-a18e-e259e6b363e2"
      },
      "source": [
        "df.groupby('invoice_month')['invoice_num'].count().plot.bar()\n",
        "# df.pivot_table(index='invoice_month', values='invoice_num', aggfunc='count').plot.bar()"
      ],
      "execution_count": 113,
      "outputs": [
        {
          "output_type": "execute_result",
          "data": {
            "text/plain": [
              "<matplotlib.axes._subplots.AxesSubplot at 0x7f7082acdf98>"
            ]
          },
          "metadata": {
            "tags": []
          },
          "execution_count": 113
        },
        {
          "output_type": "display_data",
          "data": {
            "image/png": "[encoded data removed]",
            "text/plain": [
              "<Figure size 432x288 with 1 Axes>"
            ]
          },
          "metadata": {
            "tags": [],
            "needs_background": "light"
          }
        }
      ]
    },
    {
      "cell_type": "code",
      "metadata": {
        "id": "32kda97wnbih",
        "colab_type": "code",
        "colab": {
          "base_uri": "https://localhost:8080/",
          "height": 300
        },
        "outputId": "379efc39-dacb-4f68-b6ac-28fd93684299"
      },
      "source": [
        "df.groupby('invoice_day')['invoice_num'].count().plot.bar()\n",
        "# df.pivot_table(index='invoice_day', values='invoice_num', aggfunc='count').plot.bar()"
      ],
      "execution_count": 114,
      "outputs": [
        {
          "output_type": "execute_result",
          "data": {
            "text/plain": [
              "<matplotlib.axes._subplots.AxesSubplot at 0x7f7083337668>"
            ]
          },
          "metadata": {
            "tags": []
          },
          "execution_count": 114
        },
        {
          "output_type": "display_data",
          "data": {
            "image/png": "[encoded data removed]",
            "text/plain": [
              "<Figure size 432x288 with 1 Axes>"
            ]
          },
          "metadata": {
            "tags": [],
            "needs_background": "light"
          }
        }
      ]
    },
    {
      "cell_type": "code",
      "metadata": {
        "id": "IrbwOGTu_eG9",
        "colab_type": "code",
        "colab": {
          "base_uri": "https://localhost:8080/",
          "height": 441
        },
        "outputId": "0375f839-40d8-4034-e692-253fb85a1a9a"
      },
      "source": [
        "tmp_df=df.query(\"total_amount<50\")\n",
        "# Scatter Plot:\n",
        "with sns.axes_style('white'):\n",
        "    sns.jointplot(\"invoice_day\", \"total_amount\", data=df, kind='hex')"
      ],
      "execution_count": 155,
      "outputs": [
        {
          "output_type": "display_data",
          "data": {
            "image/png": "[encoded data removed]",
            "text/plain": [
              "<Figure size 432x432 with 3 Axes>"
            ]
          },
          "metadata": {
            "tags": []
          }
        }
      ]
    },
    {
      "cell_type": "code",
      "metadata": {
        "id": "lgnSy1lCnif0",
        "colab_type": "code",
        "colab": {
          "base_uri": "https://localhost:8080/",
          "height": 300
        },
        "outputId": "746e5025-07f2-40a0-e140-a7b230a2c84a"
      },
      "source": [
        "df.groupby('invoice_hour')['invoice_num'].count().plot.bar()\n",
        "# df.pivot_table(index='invoice_hour', values='invoice_num', aggfunc='count').plot.bar()"
      ],
      "execution_count": 116,
      "outputs": [
        {
          "output_type": "execute_result",
          "data": {
            "text/plain": [
              "<matplotlib.axes._subplots.AxesSubplot at 0x7f7082105b38>"
            ]
          },
          "metadata": {
            "tags": []
          },
          "execution_count": 116
        },
        {
          "output_type": "display_data",
          "data": {
            "image/png": "[encoded data removed]",
            "text/plain": [
              "<Figure size 432x288 with 1 Axes>"
            ]
          },
          "metadata": {
            "tags": [],
            "needs_background": "light"
          }
        }
      ]
    },
    {
      "cell_type": "code",
      "metadata": {
        "id": "vT6sdr8Gn1OO",
        "colab_type": "code",
        "colab": {
          "base_uri": "https://localhost:8080/",
          "height": 345
        },
        "outputId": "0694964a-4d41-492c-9aa2-a95f413215b2"
      },
      "source": [
        "df.groupby('invoice_day_of_week')['invoice_num'].count().plot.bar()\n",
        "# df.pivot_table(index='invoice_day_of_week', values='invoice_num', aggfunc='count').plot.bar()"
      ],
      "execution_count": 117,
      "outputs": [
        {
          "output_type": "execute_result",
          "data": {
            "text/plain": [
              "<matplotlib.axes._subplots.AxesSubplot at 0x7f70805c58d0>"
            ]
          },
          "metadata": {
            "tags": []
          },
          "execution_count": 117
        },
        {
          "output_type": "display_data",
          "data": {
            "image/png": "[encoded data removed]",
            "text/plain": [
              "<Figure size 432x288 with 1 Axes>"
            ]
          },
          "metadata": {
            "tags": [],
            "needs_background": "light"
          }
        }
      ]
    },
    {
      "cell_type": "markdown",
      "metadata": {
        "id": "uugsNyTEmKOE",
        "colab_type": "text"
      },
      "source": [
        "#### 4. Month wise Free orders?"
      ]
    },
    {
      "cell_type": "code",
      "metadata": {
        "id": "59GOpUc9lpaV",
        "colab_type": "code",
        "colab": {
          "base_uri": "https://localhost:8080/",
          "height": 300
        },
        "outputId": "92a4cdb3-af1f-4a73-a247-825ff81174ca"
      },
      "source": [
        "df.query('total_amount==0').groupby('invoice_month')['invoice_num'].count().plot.bar()\n",
        "# df.query('total_amount==0').pivot_table(index='invoice_month', values='invoice_num', aggfunc='count').plot.bar()"
      ],
      "execution_count": 119,
      "outputs": [
        {
          "output_type": "execute_result",
          "data": {
            "text/plain": [
              "<matplotlib.axes._subplots.AxesSubplot at 0x7f7082221780>"
            ]
          },
          "metadata": {
            "tags": []
          },
          "execution_count": 119
        },
        {
          "output_type": "display_data",
          "data": {
            "image/png": "[encoded data removed]",
            "text/plain": [
              "<Figure size 432x288 with 1 Axes>"
            ]
          },
          "metadata": {
            "tags": [],
            "needs_background": "light"
          }
        }
      ]
    },
    {
      "cell_type": "markdown",
      "metadata": {
        "id": "xlTPJ0JM6-Ql",
        "colab_type": "text"
      },
      "source": [
        "Commanly used graphs in EDA:\n",
        "* Histogram\n",
        "* Bar chart\n",
        "* Scatter Plot\n",
        "* Normal Plot\n",
        "* Boxplot"
      ]
    },
    {
      "cell_type": "markdown",
      "metadata": {
        "id": "cj--RGYFT_X6",
        "colab_type": "text"
      },
      "source": [
        "## Step4.Test the hypotheses using T-test:\n",
        "\n",
        "The **null hypothesis** and **the alternative hypothesis** are formal methods of reaching conclusions or making decisions on the basis of incomplete information.\n",
        "\n",
        "*Usually, the null hypothesis is a statement of **'no effect'** or **'no difference'**.*\n",
        "\n",
        "Most common T - test method available from scipy:\n",
        "\n",
        "* **st.ttest_1samp**: compare population mean with given value \n",
        "* **st.ttest_ind**: compare two population(distribution) mean by taking independent sample \n",
        "* **st.ttest_rel**: compare two population(distribution) mean by taking relative/paired sample"
      ]
    },
    {
      "cell_type": "markdown",
      "metadata": {
        "id": "ASs1qwF3aJi5",
        "colab_type": "text"
      },
      "source": [
        "\n",
        "### Test1. The average profit from users of France and Germany different.\n",
        "Null Hypothesis: **There is no difference between the avearge profit from France and Germany**"
      ]
    },
    {
      "cell_type": "code",
      "metadata": {
        "id": "KdRdybmRVZh3",
        "colab_type": "code",
        "colab": {}
      },
      "source": [
        "profit_germany = df.query('country==\"Germany\"')['total_amount']\n",
        "profit_france = df.query('country==\"France\"')['total_amount']\n",
        "alpha = .05 # critical statistical significance level"
      ],
      "execution_count": 73,
      "outputs": []
    },
    {
      "cell_type": "code",
      "metadata": {
        "id": "TbSX_8FHUEj5",
        "colab_type": "code",
        "colab": {}
      },
      "source": [
        "\"\"\"\n",
        "This is a two-sided test for the null hypothesis that 2 independent samples have \n",
        "identical average (expected) values. This test assumes that the populations have \n",
        "identical variances by default.\n",
        "\"\"\"\n",
        "results = st.ttest_ind(\n",
        "        profit_germany, \n",
        "        profit_france\n",
        ")"
      ],
      "execution_count": 74,
      "outputs": []
    },
    {
      "cell_type": "code",
      "metadata": {
        "id": "ZJYTSSx-VYeb",
        "colab_type": "code",
        "colab": {
          "base_uri": "https://localhost:8080/",
          "height": 50
        },
        "outputId": "25337ada-e89f-4ffb-c6d3-880fc94aa464"
      },
      "source": [
        "print('p-value: ', results.pvalue)\n",
        "\n",
        "if (results.pvalue < alpha):\n",
        "        print(\"We reject the null hypothesis\")\n",
        "else:\n",
        "        print(\"We can't reject the null hypothesis\")"
      ],
      "execution_count": 75,
      "outputs": [
        {
          "output_type": "stream",
          "text": [
            "p-value:  0.7824016435151694\n",
            "We can't reject the null hypothesis\n"
          ],
          "name": "stdout"
        }
      ]
    },
    {
      "cell_type": "markdown",
      "metadata": {
        "id": "l50Tn0mxXd7J",
        "colab_type": "text"
      },
      "source": [
        "### Test2. The average profit from users of USA and Netherlands different.\n",
        "Null Hypothesis: **There is no difference between the avearage profit of USA and Netherland**"
      ]
    },
    {
      "cell_type": "code",
      "metadata": {
        "id": "KUwxr6uPXXEm",
        "colab_type": "code",
        "colab": {}
      },
      "source": [
        "profit_usa = df.query('country==\"USA\" and total_amount>0')['total_amount']\n",
        "profit_netherlands = df.query('country==\"Netherlands\" and total_amount>0')['total_amount']\n",
        "alpha = .05 # critical statistical significance level"
      ],
      "execution_count": 76,
      "outputs": []
    },
    {
      "cell_type": "code",
      "metadata": {
        "id": "fi__Q_lMX3KA",
        "colab_type": "code",
        "colab": {}
      },
      "source": [
        "results = st.ttest_ind(\n",
        "        profit_usa, \n",
        "        profit_netherlands\n",
        ")"
      ],
      "execution_count": 80,
      "outputs": []
    },
    {
      "cell_type": "code",
      "metadata": {
        "id": "i7JwJ-wyYktz",
        "colab_type": "code",
        "colab": {
          "base_uri": "https://localhost:8080/",
          "height": 50
        },
        "outputId": "88c10db6-5b1e-42fb-fb7e-776a8b54a067"
      },
      "source": [
        "print('p-value: ', results.pvalue)\n",
        "if (results.pvalue < alpha):\n",
        "        print(\"We reject the null hypothesis\")\n",
        "else:\n",
        "        print(\"We can't reject the null hypothesis\")"
      ],
      "execution_count": 81,
      "outputs": [
        {
          "output_type": "stream",
          "text": [
            "p-value:  2.882256909468613e-16\n",
            "We reject the null hypothesis\n"
          ],
          "name": "stdout"
        }
      ]
    },
    {
      "cell_type": "markdown",
      "metadata": {
        "id": "rDppssdy5SfO",
        "colab_type": "text"
      },
      "source": [
        "Blogs:\n",
        "* [Pivot Table](https://towardsdatascience.com/a-step-by-step-guide-to-pandas-pivot-tables-e0641d0c6c70)\n",
        "* [Hypothesis Testing](https://towardsdatascience.com/everything-you-need-to-know-about-hypothesis-testing-part-i-4de9abebbc8a#:~:text=is%20not%20interesting.-,It%20is%20the%20interpretation%20of%20the%20data%20that%20we%20are,supported%20by%20the%20sample%20data.)"
      ]
    },
    {
      "cell_type": "markdown",
      "metadata": {
        "id": "cW2HNHQW42h4",
        "colab_type": "text"
      },
      "source": [
        "Connect:\n",
        "* [Github](https://github.com/bhadreshpsavani)\n",
        "* [Linkdin](https://www.linkedin.com/in/bhadreshsavani/)"
      ]
    },
    {
      "cell_type": "markdown",
      "metadata": {
        "id": "4uYUzM7J6wep",
        "colab_type": "text"
      },
      "source": [
        "# Thanks you!"
      ]
    }
  ]
}