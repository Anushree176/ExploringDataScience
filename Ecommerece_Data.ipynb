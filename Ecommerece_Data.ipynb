{
  "nbformat": 4,
  "nbformat_minor": 0,
  "metadata": {
    "colab": {
      "name": "Ecommerece_Data.ipynb",
      "provenance": [],
      "include_colab_link": true
    },
    "kernelspec": {
      "name": "python3",
      "display_name": "Python 3"
    }
  },
  "cells": [
    {
      "cell_type": "markdown",
      "metadata": {
        "id": "view-in-github",
        "colab_type": "text"
      },
      "source": [
        "<a href=\"https://colab.research.google.com/github/bhadreshpsavani/ExploringDataScience/blob/master/Ecommerece_Data.ipynb\" target=\"_parent\"><img src=\"https://colab.research.google.com/assets/colab-badge.svg\" alt=\"Open In Colab\"/></a>"
      ]
    },
    {
      "cell_type": "markdown",
      "metadata": {
        "id": "gpuVwNglWW0W",
        "colab_type": "text"
      },
      "source": [
        "# Introduction to Exploratory Data Analysis (EDA):\n",
        "An approach to analyse and find characteristics and interesting patterns in the data\n",
        "\n",
        "1. Make Data in Representable\n",
        "2. Spot Anomaly\n",
        "3. Find Pattern\n",
        "4. Test Hypothesis\n",
        "\n",
        "Data Scientist roughly spend around 40-50% of their time in EDA"
      ]
    },
    {
      "cell_type": "markdown",
      "metadata": {
        "id": "YwQ2pgGh4rxy",
        "colab_type": "text"
      },
      "source": [
        "## 1. Import"
      ]
    },
    {
      "cell_type": "code",
      "metadata": {
        "id": "Ha58oQ9B4k2h",
        "colab_type": "code",
        "colab": {
          "base_uri": "https://localhost:8080/",
          "height": 70
        },
        "outputId": "c9d553a0-f866-45a8-ef24-aa7d53da9506"
      },
      "source": [
        "import numpy as np\n",
        "import pandas as pd\n",
        "import seaborn as sns\n",
        "from scipy import stats as st #a scientific library for Python\n",
        "\n",
        "# to ignore warnings\n",
        "import warnings\n",
        "warnings.filterwarnings('ignore')"
      ],
      "execution_count": 1,
      "outputs": [
        {
          "output_type": "stream",
          "text": [
            "/usr/local/lib/python3.6/dist-packages/statsmodels/tools/_testing.py:19: FutureWarning: pandas.util.testing is deprecated. Use the functions in the public API at pandas.testing instead.\n",
            "  import pandas.util.testing as tm\n"
          ],
          "name": "stderr"
        }
      ]
    },
    {
      "cell_type": "code",
      "metadata": {
        "id": "Bma7wkMmImJT",
        "colab_type": "code",
        "colab": {
          "base_uri": "https://localhost:8080/",
          "height": 118
        },
        "outputId": "797a371d-89c0-4f6f-e4fb-82a5bb75ae64"
      },
      "source": [
        "!git clone https://github.com/bhadreshpsavani/ExploringDataScience.git"
      ],
      "execution_count": 2,
      "outputs": [
        {
          "output_type": "stream",
          "text": [
            "Cloning into 'ExploringDataScience'...\n",
            "remote: Enumerating objects: 61, done.\u001b[K\n",
            "remote: Counting objects: 100% (61/61), done.\u001b[K\n",
            "remote: Compressing objects: 100% (57/57), done.\u001b[K\n",
            "remote: Total 61 (delta 26), reused 7 (delta 1), pack-reused 0\u001b[K\n",
            "Unpacking objects: 100% (61/61), done.\n"
          ],
          "name": "stdout"
        }
      ]
    },
    {
      "cell_type": "code",
      "metadata": {
        "id": "Bsa5kZRA402D",
        "colab_type": "code",
        "colab": {}
      },
      "source": [
        "df = pd.read_csv('/content/ExploringDataScience/Dataset/e_commerce_data.csv', encoding = 'ISO-8859-1')"
      ],
      "execution_count": 3,
      "outputs": []
    },
    {
      "cell_type": "markdown",
      "metadata": {
        "id": "b65xETbP0eES",
        "colab_type": "text"
      },
      "source": [
        "### Adding preprocessing steps from [Notebook](https://github.com/bhadreshpsavani/ExploringDataScience/blob/master/Preprocess_Ecommerece_Data.ipynb)"
      ]
    },
    {
      "cell_type": "code",
      "metadata": {
        "id": "Ao_khHZq0dnv",
        "colab_type": "code",
        "colab": {}
      },
      "source": [
        "# change the column names\n",
        "df.rename(index=str, columns={'InvoiceNo': 'invoice_num',\n",
        "                              'StockCode' : 'stock_code',\n",
        "                              'Description' : 'description',\n",
        "                              'Quantity' : 'quantity',\n",
        "                              'InvoiceDate' : 'invoice_date',\n",
        "                              'UnitPrice' : 'unit_price',\n",
        "                              'CustomerID' : 'cust_id',\n",
        "                              'Country' : 'country'}, inplace=True)\n",
        "\n",
        "df = df.dropna() # drop null value\n",
        "df = df.query('quantity > 0 and unit_price >= 0') # remove negative values(Incorrect) from data\n",
        "df = df.drop_duplicates() # removing duplicate records"
      ],
      "execution_count": 6,
      "outputs": []
    },
    {
      "cell_type": "markdown",
      "metadata": {
        "id": "Z8pqz0yn5Iju",
        "colab_type": "text"
      },
      "source": [
        "## Step1. Analyse Features"
      ]
    },
    {
      "cell_type": "code",
      "metadata": {
        "id": "9_tqPHZQ47E8",
        "colab_type": "code",
        "colab": {
          "base_uri": "https://localhost:8080/",
          "height": 195
        },
        "outputId": "7f8a9b54-aa0a-41ad-e2a5-8d2fab5b8c71"
      },
      "source": [
        "df.head()"
      ],
      "execution_count": 7,
      "outputs": [
        {
          "output_type": "execute_result",
          "data": {
            "text/html": [
              "<div>\n",
              "<style scoped>\n",
              "    .dataframe tbody tr th:only-of-type {\n",
              "        vertical-align: middle;\n",
              "    }\n",
              "\n",
              "    .dataframe tbody tr th {\n",
              "        vertical-align: top;\n",
              "    }\n",
              "\n",
              "    .dataframe thead th {\n",
              "        text-align: right;\n",
              "    }\n",
              "</style>\n",
              "<table border=\"1\" class=\"dataframe\">\n",
              "  <thead>\n",
              "    <tr style=\"text-align: right;\">\n",
              "      <th></th>\n",
              "      <th>invoice_num</th>\n",
              "      <th>stock_code</th>\n",
              "      <th>description</th>\n",
              "      <th>quantity</th>\n",
              "      <th>invoice_date</th>\n",
              "      <th>unit_price</th>\n",
              "      <th>cust_id</th>\n",
              "      <th>country</th>\n",
              "    </tr>\n",
              "  </thead>\n",
              "  <tbody>\n",
              "    <tr>\n",
              "      <th>0</th>\n",
              "      <td>536365</td>\n",
              "      <td>85123A</td>\n",
              "      <td>WHITE HANGING HEART T-LIGHT HOLDER</td>\n",
              "      <td>6</td>\n",
              "      <td>12/1/2010 8:26</td>\n",
              "      <td>2.55</td>\n",
              "      <td>17850.0</td>\n",
              "      <td>United Kingdom</td>\n",
              "    </tr>\n",
              "    <tr>\n",
              "      <th>1</th>\n",
              "      <td>536365</td>\n",
              "      <td>71053</td>\n",
              "      <td>WHITE METAL LANTERN</td>\n",
              "      <td>6</td>\n",
              "      <td>12/1/2010 8:26</td>\n",
              "      <td>3.39</td>\n",
              "      <td>17850.0</td>\n",
              "      <td>United Kingdom</td>\n",
              "    </tr>\n",
              "    <tr>\n",
              "      <th>2</th>\n",
              "      <td>536365</td>\n",
              "      <td>84406B</td>\n",
              "      <td>CREAM CUPID HEARTS COAT HANGER</td>\n",
              "      <td>8</td>\n",
              "      <td>12/1/2010 8:26</td>\n",
              "      <td>2.75</td>\n",
              "      <td>17850.0</td>\n",
              "      <td>United Kingdom</td>\n",
              "    </tr>\n",
              "    <tr>\n",
              "      <th>3</th>\n",
              "      <td>536365</td>\n",
              "      <td>84029G</td>\n",
              "      <td>KNITTED UNION FLAG HOT WATER BOTTLE</td>\n",
              "      <td>6</td>\n",
              "      <td>12/1/2010 8:26</td>\n",
              "      <td>3.39</td>\n",
              "      <td>17850.0</td>\n",
              "      <td>United Kingdom</td>\n",
              "    </tr>\n",
              "    <tr>\n",
              "      <th>4</th>\n",
              "      <td>536365</td>\n",
              "      <td>84029E</td>\n",
              "      <td>RED WOOLLY HOTTIE WHITE HEART.</td>\n",
              "      <td>6</td>\n",
              "      <td>12/1/2010 8:26</td>\n",
              "      <td>3.39</td>\n",
              "      <td>17850.0</td>\n",
              "      <td>United Kingdom</td>\n",
              "    </tr>\n",
              "  </tbody>\n",
              "</table>\n",
              "</div>"
            ],
            "text/plain": [
              "  invoice_num stock_code  ...  cust_id         country\n",
              "0      536365     85123A  ...  17850.0  United Kingdom\n",
              "1      536365      71053  ...  17850.0  United Kingdom\n",
              "2      536365     84406B  ...  17850.0  United Kingdom\n",
              "3      536365     84029G  ...  17850.0  United Kingdom\n",
              "4      536365     84029E  ...  17850.0  United Kingdom\n",
              "\n",
              "[5 rows x 8 columns]"
            ]
          },
          "metadata": {
            "tags": []
          },
          "execution_count": 7
        }
      ]
    },
    {
      "cell_type": "code",
      "metadata": {
        "id": "Nk2vy2TB5FOs",
        "colab_type": "code",
        "colab": {
          "base_uri": "https://localhost:8080/",
          "height": 269
        },
        "outputId": "66ba0431-1f46-4ae9-e679-8f497026ab0e"
      },
      "source": [
        "df.info()"
      ],
      "execution_count": 8,
      "outputs": [
        {
          "output_type": "stream",
          "text": [
            "<class 'pandas.core.frame.DataFrame'>\n",
            "Index: 392732 entries, 0 to 541908\n",
            "Data columns (total 8 columns):\n",
            " #   Column        Non-Null Count   Dtype  \n",
            "---  ------        --------------   -----  \n",
            " 0   invoice_num   392732 non-null  object \n",
            " 1   stock_code    392732 non-null  object \n",
            " 2   description   392732 non-null  object \n",
            " 3   quantity      392732 non-null  int64  \n",
            " 4   invoice_date  392732 non-null  object \n",
            " 5   unit_price    392732 non-null  float64\n",
            " 6   cust_id       392732 non-null  float64\n",
            " 7   country       392732 non-null  object \n",
            "dtypes: float64(2), int64(1), object(5)\n",
            "memory usage: 27.0+ MB\n"
          ],
          "name": "stdout"
        }
      ]
    },
    {
      "cell_type": "code",
      "metadata": {
        "id": "RtcMkzg3L_XE",
        "colab_type": "code",
        "colab": {
          "base_uri": "https://localhost:8080/",
          "height": 284
        },
        "outputId": "4b995a49-dc8f-45d1-9ef0-abc5cae39ea4"
      },
      "source": [
        "df.describe()"
      ],
      "execution_count": 9,
      "outputs": [
        {
          "output_type": "execute_result",
          "data": {
            "text/html": [
              "<div>\n",
              "<style scoped>\n",
              "    .dataframe tbody tr th:only-of-type {\n",
              "        vertical-align: middle;\n",
              "    }\n",
              "\n",
              "    .dataframe tbody tr th {\n",
              "        vertical-align: top;\n",
              "    }\n",
              "\n",
              "    .dataframe thead th {\n",
              "        text-align: right;\n",
              "    }\n",
              "</style>\n",
              "<table border=\"1\" class=\"dataframe\">\n",
              "  <thead>\n",
              "    <tr style=\"text-align: right;\">\n",
              "      <th></th>\n",
              "      <th>quantity</th>\n",
              "      <th>unit_price</th>\n",
              "      <th>cust_id</th>\n",
              "    </tr>\n",
              "  </thead>\n",
              "  <tbody>\n",
              "    <tr>\n",
              "      <th>count</th>\n",
              "      <td>392732.000000</td>\n",
              "      <td>392732.000000</td>\n",
              "      <td>392732.000000</td>\n",
              "    </tr>\n",
              "    <tr>\n",
              "      <th>mean</th>\n",
              "      <td>13.153718</td>\n",
              "      <td>3.125596</td>\n",
              "      <td>15287.734822</td>\n",
              "    </tr>\n",
              "    <tr>\n",
              "      <th>std</th>\n",
              "      <td>181.588420</td>\n",
              "      <td>22.240725</td>\n",
              "      <td>1713.567773</td>\n",
              "    </tr>\n",
              "    <tr>\n",
              "      <th>min</th>\n",
              "      <td>1.000000</td>\n",
              "      <td>0.000000</td>\n",
              "      <td>12346.000000</td>\n",
              "    </tr>\n",
              "    <tr>\n",
              "      <th>25%</th>\n",
              "      <td>2.000000</td>\n",
              "      <td>1.250000</td>\n",
              "      <td>13955.000000</td>\n",
              "    </tr>\n",
              "    <tr>\n",
              "      <th>50%</th>\n",
              "      <td>6.000000</td>\n",
              "      <td>1.950000</td>\n",
              "      <td>15150.000000</td>\n",
              "    </tr>\n",
              "    <tr>\n",
              "      <th>75%</th>\n",
              "      <td>12.000000</td>\n",
              "      <td>3.750000</td>\n",
              "      <td>16791.000000</td>\n",
              "    </tr>\n",
              "    <tr>\n",
              "      <th>max</th>\n",
              "      <td>80995.000000</td>\n",
              "      <td>8142.750000</td>\n",
              "      <td>18287.000000</td>\n",
              "    </tr>\n",
              "  </tbody>\n",
              "</table>\n",
              "</div>"
            ],
            "text/plain": [
              "            quantity     unit_price        cust_id\n",
              "count  392732.000000  392732.000000  392732.000000\n",
              "mean       13.153718       3.125596   15287.734822\n",
              "std       181.588420      22.240725    1713.567773\n",
              "min         1.000000       0.000000   12346.000000\n",
              "25%         2.000000       1.250000   13955.000000\n",
              "50%         6.000000       1.950000   15150.000000\n",
              "75%        12.000000       3.750000   16791.000000\n",
              "max     80995.000000    8142.750000   18287.000000"
            ]
          },
          "metadata": {
            "tags": []
          },
          "execution_count": 9
        }
      ]
    },
    {
      "cell_type": "code",
      "metadata": {
        "id": "3eLoW1lA5Ngg",
        "colab_type": "code",
        "colab": {
          "base_uri": "https://localhost:8080/",
          "height": 218
        },
        "outputId": "3bcafb93-0fc2-47e2-9faf-795a1d1802cc"
      },
      "source": [
        "df['stock_code'].value_counts()"
      ],
      "execution_count": 10,
      "outputs": [
        {
          "output_type": "execute_result",
          "data": {
            "text/plain": [
              "85123A    2023\n",
              "22423     1714\n",
              "85099B    1615\n",
              "84879     1395\n",
              "47566     1390\n",
              "          ... \n",
              "84746        1\n",
              "90027D       1\n",
              "90078        1\n",
              "90071        1\n",
              "90033        1\n",
              "Name: stock_code, Length: 3665, dtype: int64"
            ]
          },
          "metadata": {
            "tags": []
          },
          "execution_count": 10
        }
      ]
    },
    {
      "cell_type": "code",
      "metadata": {
        "id": "UlP7BMGdKmbN",
        "colab_type": "code",
        "colab": {
          "base_uri": "https://localhost:8080/",
          "height": 218
        },
        "outputId": "f33d8ea7-1aa7-4703-ad4c-be9440728b49"
      },
      "source": [
        "df['description'].value_counts()"
      ],
      "execution_count": 11,
      "outputs": [
        {
          "output_type": "execute_result",
          "data": {
            "text/plain": [
              "WHITE HANGING HEART T-LIGHT HOLDER    2016\n",
              "REGENCY CAKESTAND 3 TIER              1714\n",
              "JUMBO BAG RED RETROSPOT               1615\n",
              "ASSORTED COLOUR BIRD ORNAMENT         1395\n",
              "PARTY BUNTING                         1390\n",
              "                                      ... \n",
              "PINK EASTER HENS+FLOWER                  1\n",
              "FIRE POLISHED GLASS NECKL GOLD           1\n",
              "FLOWER FAIRY 5 SUMMER DRAW LINERS        1\n",
              "KNITTED RABBIT DOLL                      1\n",
              "PINK/WHITE GLASS DEMI CHOKER             1\n",
              "Name: description, Length: 3877, dtype: int64"
            ]
          },
          "metadata": {
            "tags": []
          },
          "execution_count": 11
        }
      ]
    },
    {
      "cell_type": "code",
      "metadata": {
        "id": "hPACzk0QGSLt",
        "colab_type": "code",
        "colab": {
          "base_uri": "https://localhost:8080/",
          "height": 218
        },
        "outputId": "db80df58-7fd7-4559-c414-b7dc4819cffb"
      },
      "source": [
        "df['description'] = df['description'].str.lower()\n",
        "df['description'].value_counts()"
      ],
      "execution_count": 12,
      "outputs": [
        {
          "output_type": "execute_result",
          "data": {
            "text/plain": [
              "white hanging heart t-light holder    2016\n",
              "regency cakestand 3 tier              1714\n",
              "jumbo bag red retrospot               1615\n",
              "assorted colour bird ornament         1395\n",
              "party bunting                         1390\n",
              "                                      ... \n",
              "pink acrylic jewel snowflake             1\n",
              "curious images scrap book set            1\n",
              "flag of st george car flag               1\n",
              "big polkadot mug                         1\n",
              "purple/turq flowers handbag              1\n",
              "Name: description, Length: 3877, dtype: int64"
            ]
          },
          "metadata": {
            "tags": []
          },
          "execution_count": 12
        }
      ]
    },
    {
      "cell_type": "code",
      "metadata": {
        "id": "ptHF3r7pKwgT",
        "colab_type": "code",
        "colab": {
          "base_uri": "https://localhost:8080/",
          "height": 672
        },
        "outputId": "9a7dc3f5-6398-47b5-fa53-1f795aadf227"
      },
      "source": [
        "print(len(df['country'].value_counts()))\n",
        "df['country'].value_counts()"
      ],
      "execution_count": 13,
      "outputs": [
        {
          "output_type": "stream",
          "text": [
            "37\n"
          ],
          "name": "stdout"
        },
        {
          "output_type": "execute_result",
          "data": {
            "text/plain": [
              "United Kingdom          349227\n",
              "Germany                   9027\n",
              "France                    8327\n",
              "EIRE                      7228\n",
              "Spain                     2480\n",
              "Netherlands               2363\n",
              "Belgium                   2031\n",
              "Switzerland               1842\n",
              "Portugal                  1453\n",
              "Australia                 1184\n",
              "Norway                    1072\n",
              "Italy                      758\n",
              "Channel Islands            747\n",
              "Finland                    685\n",
              "Cyprus                     603\n",
              "Sweden                     450\n",
              "Austria                    398\n",
              "Denmark                    380\n",
              "Poland                     330\n",
              "Japan                      321\n",
              "Israel                     245\n",
              "Unspecified                241\n",
              "Singapore                  222\n",
              "Iceland                    182\n",
              "USA                        179\n",
              "Canada                     151\n",
              "Greece                     145\n",
              "Malta                      112\n",
              "United Arab Emirates        68\n",
              "European Community          60\n",
              "RSA                         58\n",
              "Lebanon                     45\n",
              "Lithuania                   35\n",
              "Brazil                      32\n",
              "Czech Republic              25\n",
              "Bahrain                     17\n",
              "Saudi Arabia                 9\n",
              "Name: country, dtype: int64"
            ]
          },
          "metadata": {
            "tags": []
          },
          "execution_count": 13
        }
      ]
    },
    {
      "cell_type": "markdown",
      "metadata": {
        "id": "T5mMq6a8WIXh",
        "colab_type": "text"
      },
      "source": [
        "## Step2. Data Preprocessing:"
      ]
    },
    {
      "cell_type": "markdown",
      "metadata": {
        "id": "d2WQsVxoWUTH",
        "colab_type": "text"
      },
      "source": [
        "### i. Handle Incorrect Datatype:"
      ]
    },
    {
      "cell_type": "code",
      "metadata": {
        "id": "uMjQGhwQWhQu",
        "colab_type": "code",
        "colab": {}
      },
      "source": [
        "df.cust_id = df.cust_id.astype('int64')"
      ],
      "execution_count": 14,
      "outputs": []
    },
    {
      "cell_type": "code",
      "metadata": {
        "id": "X9hWBaLrbVh9",
        "colab_type": "code",
        "colab": {}
      },
      "source": [
        "# change the invoice_date format - String to Timestamp format\n",
        "df['invoice_date'] = pd.to_datetime(df['invoice_date'], format='%m/%d/%Y %H:%M')"
      ],
      "execution_count": 15,
      "outputs": []
    },
    {
      "cell_type": "code",
      "metadata": {
        "id": "Y-nnjLK0FXk9",
        "colab_type": "code",
        "colab": {
          "base_uri": "https://localhost:8080/",
          "height": 269
        },
        "outputId": "e41dd240-4576-4dcd-f29a-37c6e6b0f7dc"
      },
      "source": [
        "df.info()"
      ],
      "execution_count": 16,
      "outputs": [
        {
          "output_type": "stream",
          "text": [
            "<class 'pandas.core.frame.DataFrame'>\n",
            "Index: 392732 entries, 0 to 541908\n",
            "Data columns (total 8 columns):\n",
            " #   Column        Non-Null Count   Dtype         \n",
            "---  ------        --------------   -----         \n",
            " 0   invoice_num   392732 non-null  object        \n",
            " 1   stock_code    392732 non-null  object        \n",
            " 2   description   392732 non-null  object        \n",
            " 3   quantity      392732 non-null  int64         \n",
            " 4   invoice_date  392732 non-null  datetime64[ns]\n",
            " 5   unit_price    392732 non-null  float64       \n",
            " 6   cust_id       392732 non-null  int64         \n",
            " 7   country       392732 non-null  object        \n",
            "dtypes: datetime64[ns](1), float64(1), int64(2), object(4)\n",
            "memory usage: 27.0+ MB\n"
          ],
          "name": "stdout"
        }
      ]
    },
    {
      "cell_type": "markdown",
      "metadata": {
        "id": "B5nK7YFRGppt",
        "colab_type": "text"
      },
      "source": [
        "### ii. Add Columns related to Date"
      ]
    },
    {
      "cell_type": "code",
      "metadata": {
        "id": "QPyvazkFFkwr",
        "colab_type": "code",
        "colab": {
          "base_uri": "https://localhost:8080/",
          "height": 279
        },
        "outputId": "52eeaf90-34a6-4e41-ea94-478f1ca4de61"
      },
      "source": [
        "df['invoice_day'] = df['invoice_date'].dt.day\n",
        "df['invoice_day_of_week'] = df['invoice_date'].dt.dayofweek\n",
        "df['invoice_month'] = df['invoice_date'].dt.month\n",
        "df['invoice_hour'] = df['invoice_date'].dt.hour\n",
        "df['invoice_year'] = df['invoice_date'].dt.year\n",
        "df.head()"
      ],
      "execution_count": 17,
      "outputs": [
        {
          "output_type": "execute_result",
          "data": {
            "text/html": [
              "<div>\n",
              "<style scoped>\n",
              "    .dataframe tbody tr th:only-of-type {\n",
              "        vertical-align: middle;\n",
              "    }\n",
              "\n",
              "    .dataframe tbody tr th {\n",
              "        vertical-align: top;\n",
              "    }\n",
              "\n",
              "    .dataframe thead th {\n",
              "        text-align: right;\n",
              "    }\n",
              "</style>\n",
              "<table border=\"1\" class=\"dataframe\">\n",
              "  <thead>\n",
              "    <tr style=\"text-align: right;\">\n",
              "      <th></th>\n",
              "      <th>invoice_num</th>\n",
              "      <th>stock_code</th>\n",
              "      <th>description</th>\n",
              "      <th>quantity</th>\n",
              "      <th>invoice_date</th>\n",
              "      <th>unit_price</th>\n",
              "      <th>cust_id</th>\n",
              "      <th>country</th>\n",
              "      <th>invoice_day</th>\n",
              "      <th>invoice_day_of_week</th>\n",
              "      <th>invoice_month</th>\n",
              "      <th>invoice_hour</th>\n",
              "      <th>invoice_year</th>\n",
              "    </tr>\n",
              "  </thead>\n",
              "  <tbody>\n",
              "    <tr>\n",
              "      <th>0</th>\n",
              "      <td>536365</td>\n",
              "      <td>85123A</td>\n",
              "      <td>white hanging heart t-light holder</td>\n",
              "      <td>6</td>\n",
              "      <td>2010-12-01 08:26:00</td>\n",
              "      <td>2.55</td>\n",
              "      <td>17850</td>\n",
              "      <td>United Kingdom</td>\n",
              "      <td>1</td>\n",
              "      <td>2</td>\n",
              "      <td>12</td>\n",
              "      <td>8</td>\n",
              "      <td>2010</td>\n",
              "    </tr>\n",
              "    <tr>\n",
              "      <th>1</th>\n",
              "      <td>536365</td>\n",
              "      <td>71053</td>\n",
              "      <td>white metal lantern</td>\n",
              "      <td>6</td>\n",
              "      <td>2010-12-01 08:26:00</td>\n",
              "      <td>3.39</td>\n",
              "      <td>17850</td>\n",
              "      <td>United Kingdom</td>\n",
              "      <td>1</td>\n",
              "      <td>2</td>\n",
              "      <td>12</td>\n",
              "      <td>8</td>\n",
              "      <td>2010</td>\n",
              "    </tr>\n",
              "    <tr>\n",
              "      <th>2</th>\n",
              "      <td>536365</td>\n",
              "      <td>84406B</td>\n",
              "      <td>cream cupid hearts coat hanger</td>\n",
              "      <td>8</td>\n",
              "      <td>2010-12-01 08:26:00</td>\n",
              "      <td>2.75</td>\n",
              "      <td>17850</td>\n",
              "      <td>United Kingdom</td>\n",
              "      <td>1</td>\n",
              "      <td>2</td>\n",
              "      <td>12</td>\n",
              "      <td>8</td>\n",
              "      <td>2010</td>\n",
              "    </tr>\n",
              "    <tr>\n",
              "      <th>3</th>\n",
              "      <td>536365</td>\n",
              "      <td>84029G</td>\n",
              "      <td>knitted union flag hot water bottle</td>\n",
              "      <td>6</td>\n",
              "      <td>2010-12-01 08:26:00</td>\n",
              "      <td>3.39</td>\n",
              "      <td>17850</td>\n",
              "      <td>United Kingdom</td>\n",
              "      <td>1</td>\n",
              "      <td>2</td>\n",
              "      <td>12</td>\n",
              "      <td>8</td>\n",
              "      <td>2010</td>\n",
              "    </tr>\n",
              "    <tr>\n",
              "      <th>4</th>\n",
              "      <td>536365</td>\n",
              "      <td>84029E</td>\n",
              "      <td>red woolly hottie white heart.</td>\n",
              "      <td>6</td>\n",
              "      <td>2010-12-01 08:26:00</td>\n",
              "      <td>3.39</td>\n",
              "      <td>17850</td>\n",
              "      <td>United Kingdom</td>\n",
              "      <td>1</td>\n",
              "      <td>2</td>\n",
              "      <td>12</td>\n",
              "      <td>8</td>\n",
              "      <td>2010</td>\n",
              "    </tr>\n",
              "  </tbody>\n",
              "</table>\n",
              "</div>"
            ],
            "text/plain": [
              "  invoice_num stock_code  ... invoice_hour  invoice_year\n",
              "0      536365     85123A  ...            8          2010\n",
              "1      536365      71053  ...            8          2010\n",
              "2      536365     84406B  ...            8          2010\n",
              "3      536365     84029G  ...            8          2010\n",
              "4      536365     84029E  ...            8          2010\n",
              "\n",
              "[5 rows x 13 columns]"
            ]
          },
          "metadata": {
            "tags": []
          },
          "execution_count": 17
        }
      ]
    },
    {
      "cell_type": "code",
      "metadata": {
        "id": "QB25_vkPZdmU",
        "colab_type": "code",
        "colab": {}
      },
      "source": [
        "days_of_week = {0:\"Monday\", 1:\"Tuesday\", 2:\"Wendesday\", 3:\"Thursday\", 4:\"Friday\" , 5:\"Saturday\", 6:\"Sunday\"}"
      ],
      "execution_count": 18,
      "outputs": []
    },
    {
      "cell_type": "code",
      "metadata": {
        "id": "T4FMt3caZ7Ug",
        "colab_type": "code",
        "colab": {
          "base_uri": "https://localhost:8080/",
          "height": 279
        },
        "outputId": "927ba903-032c-4ef6-c677-39a60818d014"
      },
      "source": [
        "df['invoice_day_of_week'] = df['invoice_day_of_week'].apply(lambda item: days_of_week[item])\n",
        "df.head()"
      ],
      "execution_count": 19,
      "outputs": [
        {
          "output_type": "execute_result",
          "data": {
            "text/html": [
              "<div>\n",
              "<style scoped>\n",
              "    .dataframe tbody tr th:only-of-type {\n",
              "        vertical-align: middle;\n",
              "    }\n",
              "\n",
              "    .dataframe tbody tr th {\n",
              "        vertical-align: top;\n",
              "    }\n",
              "\n",
              "    .dataframe thead th {\n",
              "        text-align: right;\n",
              "    }\n",
              "</style>\n",
              "<table border=\"1\" class=\"dataframe\">\n",
              "  <thead>\n",
              "    <tr style=\"text-align: right;\">\n",
              "      <th></th>\n",
              "      <th>invoice_num</th>\n",
              "      <th>stock_code</th>\n",
              "      <th>description</th>\n",
              "      <th>quantity</th>\n",
              "      <th>invoice_date</th>\n",
              "      <th>unit_price</th>\n",
              "      <th>cust_id</th>\n",
              "      <th>country</th>\n",
              "      <th>invoice_day</th>\n",
              "      <th>invoice_day_of_week</th>\n",
              "      <th>invoice_month</th>\n",
              "      <th>invoice_hour</th>\n",
              "      <th>invoice_year</th>\n",
              "    </tr>\n",
              "  </thead>\n",
              "  <tbody>\n",
              "    <tr>\n",
              "      <th>0</th>\n",
              "      <td>536365</td>\n",
              "      <td>85123A</td>\n",
              "      <td>white hanging heart t-light holder</td>\n",
              "      <td>6</td>\n",
              "      <td>2010-12-01 08:26:00</td>\n",
              "      <td>2.55</td>\n",
              "      <td>17850</td>\n",
              "      <td>United Kingdom</td>\n",
              "      <td>1</td>\n",
              "      <td>Wendesday</td>\n",
              "      <td>12</td>\n",
              "      <td>8</td>\n",
              "      <td>2010</td>\n",
              "    </tr>\n",
              "    <tr>\n",
              "      <th>1</th>\n",
              "      <td>536365</td>\n",
              "      <td>71053</td>\n",
              "      <td>white metal lantern</td>\n",
              "      <td>6</td>\n",
              "      <td>2010-12-01 08:26:00</td>\n",
              "      <td>3.39</td>\n",
              "      <td>17850</td>\n",
              "      <td>United Kingdom</td>\n",
              "      <td>1</td>\n",
              "      <td>Wendesday</td>\n",
              "      <td>12</td>\n",
              "      <td>8</td>\n",
              "      <td>2010</td>\n",
              "    </tr>\n",
              "    <tr>\n",
              "      <th>2</th>\n",
              "      <td>536365</td>\n",
              "      <td>84406B</td>\n",
              "      <td>cream cupid hearts coat hanger</td>\n",
              "      <td>8</td>\n",
              "      <td>2010-12-01 08:26:00</td>\n",
              "      <td>2.75</td>\n",
              "      <td>17850</td>\n",
              "      <td>United Kingdom</td>\n",
              "      <td>1</td>\n",
              "      <td>Wendesday</td>\n",
              "      <td>12</td>\n",
              "      <td>8</td>\n",
              "      <td>2010</td>\n",
              "    </tr>\n",
              "    <tr>\n",
              "      <th>3</th>\n",
              "      <td>536365</td>\n",
              "      <td>84029G</td>\n",
              "      <td>knitted union flag hot water bottle</td>\n",
              "      <td>6</td>\n",
              "      <td>2010-12-01 08:26:00</td>\n",
              "      <td>3.39</td>\n",
              "      <td>17850</td>\n",
              "      <td>United Kingdom</td>\n",
              "      <td>1</td>\n",
              "      <td>Wendesday</td>\n",
              "      <td>12</td>\n",
              "      <td>8</td>\n",
              "      <td>2010</td>\n",
              "    </tr>\n",
              "    <tr>\n",
              "      <th>4</th>\n",
              "      <td>536365</td>\n",
              "      <td>84029E</td>\n",
              "      <td>red woolly hottie white heart.</td>\n",
              "      <td>6</td>\n",
              "      <td>2010-12-01 08:26:00</td>\n",
              "      <td>3.39</td>\n",
              "      <td>17850</td>\n",
              "      <td>United Kingdom</td>\n",
              "      <td>1</td>\n",
              "      <td>Wendesday</td>\n",
              "      <td>12</td>\n",
              "      <td>8</td>\n",
              "      <td>2010</td>\n",
              "    </tr>\n",
              "  </tbody>\n",
              "</table>\n",
              "</div>"
            ],
            "text/plain": [
              "  invoice_num stock_code  ... invoice_hour  invoice_year\n",
              "0      536365     85123A  ...            8          2010\n",
              "1      536365      71053  ...            8          2010\n",
              "2      536365     84406B  ...            8          2010\n",
              "3      536365     84029G  ...            8          2010\n",
              "4      536365     84029E  ...            8          2010\n",
              "\n",
              "[5 rows x 13 columns]"
            ]
          },
          "metadata": {
            "tags": []
          },
          "execution_count": 19
        }
      ]
    },
    {
      "cell_type": "markdown",
      "metadata": {
        "id": "71-VLNvqJ885",
        "colab_type": "text"
      },
      "source": [
        "### iii. Calculate Total Amount:"
      ]
    },
    {
      "cell_type": "code",
      "metadata": {
        "id": "-vZn6YNzJpV0",
        "colab_type": "code",
        "colab": {}
      },
      "source": [
        "df['total_amount'] = df['quantity'] * df['unit_price']"
      ],
      "execution_count": 20,
      "outputs": []
    },
    {
      "cell_type": "code",
      "metadata": {
        "id": "LLFT6lOKcpV5",
        "colab_type": "code",
        "colab": {
          "base_uri": "https://localhost:8080/",
          "height": 383
        },
        "outputId": "416c0422-fe44-440b-a18b-ddce1a2bbec8"
      },
      "source": [
        "df.head()"
      ],
      "execution_count": 21,
      "outputs": [
        {
          "output_type": "execute_result",
          "data": {
            "text/html": [
              "<div>\n",
              "<style scoped>\n",
              "    .dataframe tbody tr th:only-of-type {\n",
              "        vertical-align: middle;\n",
              "    }\n",
              "\n",
              "    .dataframe tbody tr th {\n",
              "        vertical-align: top;\n",
              "    }\n",
              "\n",
              "    .dataframe thead th {\n",
              "        text-align: right;\n",
              "    }\n",
              "</style>\n",
              "<table border=\"1\" class=\"dataframe\">\n",
              "  <thead>\n",
              "    <tr style=\"text-align: right;\">\n",
              "      <th></th>\n",
              "      <th>invoice_num</th>\n",
              "      <th>stock_code</th>\n",
              "      <th>description</th>\n",
              "      <th>quantity</th>\n",
              "      <th>invoice_date</th>\n",
              "      <th>unit_price</th>\n",
              "      <th>cust_id</th>\n",
              "      <th>country</th>\n",
              "      <th>invoice_day</th>\n",
              "      <th>invoice_day_of_week</th>\n",
              "      <th>invoice_month</th>\n",
              "      <th>invoice_hour</th>\n",
              "      <th>invoice_year</th>\n",
              "      <th>total_amount</th>\n",
              "    </tr>\n",
              "  </thead>\n",
              "  <tbody>\n",
              "    <tr>\n",
              "      <th>0</th>\n",
              "      <td>536365</td>\n",
              "      <td>85123A</td>\n",
              "      <td>white hanging heart t-light holder</td>\n",
              "      <td>6</td>\n",
              "      <td>2010-12-01 08:26:00</td>\n",
              "      <td>2.55</td>\n",
              "      <td>17850</td>\n",
              "      <td>United Kingdom</td>\n",
              "      <td>1</td>\n",
              "      <td>Wendesday</td>\n",
              "      <td>12</td>\n",
              "      <td>8</td>\n",
              "      <td>2010</td>\n",
              "      <td>15.30</td>\n",
              "    </tr>\n",
              "    <tr>\n",
              "      <th>1</th>\n",
              "      <td>536365</td>\n",
              "      <td>71053</td>\n",
              "      <td>white metal lantern</td>\n",
              "      <td>6</td>\n",
              "      <td>2010-12-01 08:26:00</td>\n",
              "      <td>3.39</td>\n",
              "      <td>17850</td>\n",
              "      <td>United Kingdom</td>\n",
              "      <td>1</td>\n",
              "      <td>Wendesday</td>\n",
              "      <td>12</td>\n",
              "      <td>8</td>\n",
              "      <td>2010</td>\n",
              "      <td>20.34</td>\n",
              "    </tr>\n",
              "    <tr>\n",
              "      <th>2</th>\n",
              "      <td>536365</td>\n",
              "      <td>84406B</td>\n",
              "      <td>cream cupid hearts coat hanger</td>\n",
              "      <td>8</td>\n",
              "      <td>2010-12-01 08:26:00</td>\n",
              "      <td>2.75</td>\n",
              "      <td>17850</td>\n",
              "      <td>United Kingdom</td>\n",
              "      <td>1</td>\n",
              "      <td>Wendesday</td>\n",
              "      <td>12</td>\n",
              "      <td>8</td>\n",
              "      <td>2010</td>\n",
              "      <td>22.00</td>\n",
              "    </tr>\n",
              "    <tr>\n",
              "      <th>3</th>\n",
              "      <td>536365</td>\n",
              "      <td>84029G</td>\n",
              "      <td>knitted union flag hot water bottle</td>\n",
              "      <td>6</td>\n",
              "      <td>2010-12-01 08:26:00</td>\n",
              "      <td>3.39</td>\n",
              "      <td>17850</td>\n",
              "      <td>United Kingdom</td>\n",
              "      <td>1</td>\n",
              "      <td>Wendesday</td>\n",
              "      <td>12</td>\n",
              "      <td>8</td>\n",
              "      <td>2010</td>\n",
              "      <td>20.34</td>\n",
              "    </tr>\n",
              "    <tr>\n",
              "      <th>4</th>\n",
              "      <td>536365</td>\n",
              "      <td>84029E</td>\n",
              "      <td>red woolly hottie white heart.</td>\n",
              "      <td>6</td>\n",
              "      <td>2010-12-01 08:26:00</td>\n",
              "      <td>3.39</td>\n",
              "      <td>17850</td>\n",
              "      <td>United Kingdom</td>\n",
              "      <td>1</td>\n",
              "      <td>Wendesday</td>\n",
              "      <td>12</td>\n",
              "      <td>8</td>\n",
              "      <td>2010</td>\n",
              "      <td>20.34</td>\n",
              "    </tr>\n",
              "  </tbody>\n",
              "</table>\n",
              "</div>"
            ],
            "text/plain": [
              "  invoice_num stock_code  ... invoice_year  total_amount\n",
              "0      536365     85123A  ...         2010         15.30\n",
              "1      536365      71053  ...         2010         20.34\n",
              "2      536365     84406B  ...         2010         22.00\n",
              "3      536365     84029G  ...         2010         20.34\n",
              "4      536365     84029E  ...         2010         20.34\n",
              "\n",
              "[5 rows x 14 columns]"
            ]
          },
          "metadata": {
            "tags": []
          },
          "execution_count": 21
        }
      ]
    },
    {
      "cell_type": "markdown",
      "metadata": {
        "id": "LokbLRFcdmxT",
        "colab_type": "text"
      },
      "source": [
        "## Step3. Data Analysis:"
      ]
    },
    {
      "cell_type": "markdown",
      "metadata": {
        "id": "xlTPJ0JM6-Ql",
        "colab_type": "text"
      },
      "source": [
        "Commanly used graphs in EDA:\n",
        "* Histogram\n",
        "* Bar chart\n",
        "* Scatter Plot\n",
        "* Normal Plot\n",
        "* Boxplot"
      ]
    },
    {
      "cell_type": "markdown",
      "metadata": {
        "id": "mFW57BdoyGIj",
        "colab_type": "text"
      },
      "source": [
        "### 1. Identify Outliers:\n",
        "Histogram is a graph which shows us how many time perticular values appear in the dataset. It is similar to `value_counts()`."
      ]
    },
    {
      "cell_type": "code",
      "metadata": {
        "id": "ySgLhZHVyQo1",
        "colab_type": "code",
        "colab": {
          "base_uri": "https://localhost:8080/",
          "height": 282
        },
        "outputId": "becea72f-cdea-49d1-fb33-0078e138e232"
      },
      "source": [
        "df['total_amount'].hist(bins=100, range=(0,500))"
      ],
      "execution_count": 22,
      "outputs": [
        {
          "output_type": "execute_result",
          "data": {
            "text/plain": [
              "<matplotlib.axes._subplots.AxesSubplot at 0x7f65b3c3c9b0>"
            ]
          },
          "metadata": {
            "tags": []
          },
          "execution_count": 22
        },
        {
          "output_type": "display_data",
          "data": {
            "image/png": "[encoded data removed]",
            "text/plain": [
              "<Figure size 432x288 with 1 Axes>"
            ]
          },
          "metadata": {
            "tags": [],
            "needs_background": "light"
          }
        }
      ]
    },
    {
      "cell_type": "code",
      "metadata": {
        "id": "Pg3fyvhP1IMD",
        "colab_type": "code",
        "colab": {
          "base_uri": "https://localhost:8080/",
          "height": 297
        },
        "outputId": "43d5e909-282d-42be-e881-1dccd07753a6"
      },
      "source": [
        "sns.distplot(df.query('total_amount<100')['total_amount'])"
      ],
      "execution_count": 23,
      "outputs": [
        {
          "output_type": "execute_result",
          "data": {
            "text/plain": [
              "<matplotlib.axes._subplots.AxesSubplot at 0x7f65b3a6fe10>"
            ]
          },
          "metadata": {
            "tags": []
          },
          "execution_count": 23
        },
        {
          "output_type": "display_data",
          "data": {
            "image/png": "[encoded data removed]",
            "text/plain": [
              "<Figure size 432x288 with 1 Axes>"
            ]
          },
          "metadata": {
            "tags": [],
            "needs_background": "light"
          }
        }
      ]
    },
    {
      "cell_type": "code",
      "metadata": {
        "id": "KqlMfOS8yMmO",
        "colab_type": "code",
        "colab": {
          "base_uri": "https://localhost:8080/",
          "height": 283
        },
        "outputId": "06546789-05fb-4d74-e223-9db367f4726d"
      },
      "source": [
        "df.query('total_amount<50').boxplot(column='total_amount')"
      ],
      "execution_count": 24,
      "outputs": [
        {
          "output_type": "execute_result",
          "data": {
            "text/plain": [
              "<matplotlib.axes._subplots.AxesSubplot at 0x7f65b351d4a8>"
            ]
          },
          "metadata": {
            "tags": []
          },
          "execution_count": 24
        },
        {
          "output_type": "display_data",
          "data": {
            "image/png": "[encoded data removed]",
            "text/plain": [
              "<Figure size 432x288 with 1 Axes>"
            ]
          },
          "metadata": {
            "tags": [],
            "needs_background": "light"
          }
        }
      ]
    },
    {
      "cell_type": "code",
      "metadata": {
        "id": "RrBxj2NLCYz8",
        "colab_type": "code",
        "colab": {
          "base_uri": "https://localhost:8080/",
          "height": 297
        },
        "outputId": "5b8e1ece-875d-4c05-c11f-3a9af4882e8e"
      },
      "source": [
        "df.pivot_table(index=['invoice_year', 'invoice_month'], values='invoice_num', aggfunc='count').plot()"
      ],
      "execution_count": 25,
      "outputs": [
        {
          "output_type": "execute_result",
          "data": {
            "text/plain": [
              "<matplotlib.axes._subplots.AxesSubplot at 0x7f65b34f90b8>"
            ]
          },
          "metadata": {
            "tags": []
          },
          "execution_count": 25
        },
        {
          "output_type": "display_data",
          "data": {
            "image/png": "[encoded data removed]",
            "text/plain": [
              "<Figure size 432x288 with 1 Axes>"
            ]
          },
          "metadata": {
            "tags": [],
            "needs_background": "light"
          }
        }
      ]
    },
    {
      "cell_type": "markdown",
      "metadata": {
        "id": "fhqUOwLSBTLQ",
        "colab_type": "text"
      },
      "source": [
        "### Price Analysis:"
      ]
    },
    {
      "cell_type": "markdown",
      "metadata": {
        "id": "qnaZhkMNlDw8",
        "colab_type": "text"
      },
      "source": [
        "#### What is Month wise total profit per order?"
      ]
    },
    {
      "cell_type": "code",
      "metadata": {
        "id": "aKe4hksRb1ZR",
        "colab_type": "code",
        "colab": {
          "base_uri": "https://localhost:8080/",
          "height": 311
        },
        "outputId": "16050376-0aa9-48fe-eafd-df26f7ddf0e3"
      },
      "source": [
        "df.groupby('invoice_month')['total_amount'].sum().plot.bar()"
      ],
      "execution_count": 26,
      "outputs": [
        {
          "output_type": "execute_result",
          "data": {
            "text/plain": [
              "<matplotlib.axes._subplots.AxesSubplot at 0x7f65b3516320>"
            ]
          },
          "metadata": {
            "tags": []
          },
          "execution_count": 26
        },
        {
          "output_type": "display_data",
          "data": {
            "image/png": "[encoded data removed]",
            "text/plain": [
              "<Figure size 432x288 with 1 Axes>"
            ]
          },
          "metadata": {
            "tags": [],
            "needs_background": "light"
          }
        }
      ]
    },
    {
      "cell_type": "code",
      "metadata": {
        "id": "hPn9mqbwkwy4",
        "colab_type": "code",
        "colab": {
          "base_uri": "https://localhost:8080/",
          "height": 311
        },
        "outputId": "f3352d73-1436-4f97-c082-794031989b93"
      },
      "source": [
        "df.pivot_table(index='invoice_month', values='total_amount', aggfunc='sum').plot.bar()"
      ],
      "execution_count": 27,
      "outputs": [
        {
          "output_type": "execute_result",
          "data": {
            "text/plain": [
              "<matplotlib.axes._subplots.AxesSubplot at 0x7f65b34e6e80>"
            ]
          },
          "metadata": {
            "tags": []
          },
          "execution_count": 27
        },
        {
          "output_type": "display_data",
          "data": {
            "image/png": "[encoded data removed]",
            "text/plain": [
              "<Figure size 432x288 with 1 Axes>"
            ]
          },
          "metadata": {
            "tags": [],
            "needs_background": "light"
          }
        }
      ]
    },
    {
      "cell_type": "markdown",
      "metadata": {
        "id": "RCdudMge4TzB",
        "colab_type": "text"
      },
      "source": [
        "### Order Analysis"
      ]
    },
    {
      "cell_type": "code",
      "metadata": {
        "id": "g5VKg4NEiNC7",
        "colab_type": "code",
        "colab": {
          "base_uri": "https://localhost:8080/",
          "height": 300
        },
        "outputId": "41ca4ca4-8dcf-4361-c996-51bb09334646"
      },
      "source": [
        "df.groupby('invoice_month')['invoice_num'].count().plot.bar()\n",
        "# below code also give same result\n",
        "# df.pivot_table(index='invoice_month', values='invoice_num', aggfunc='count').plot.bar()"
      ],
      "execution_count": 40,
      "outputs": [
        {
          "output_type": "execute_result",
          "data": {
            "text/plain": [
              "<matplotlib.axes._subplots.AxesSubplot at 0x7f65b350b4a8>"
            ]
          },
          "metadata": {
            "tags": []
          },
          "execution_count": 40
        },
        {
          "output_type": "display_data",
          "data": {
            "image/png": "[encoded data removed]",
            "text/plain": [
              "<Figure size 432x288 with 1 Axes>"
            ]
          },
          "metadata": {
            "tags": [],
            "needs_background": "light"
          }
        }
      ]
    },
    {
      "cell_type": "code",
      "metadata": {
        "id": "32kda97wnbih",
        "colab_type": "code",
        "colab": {
          "base_uri": "https://localhost:8080/",
          "height": 300
        },
        "outputId": "0508443b-dd90-4a24-f2e1-c6ec2d461bb8"
      },
      "source": [
        "df.groupby('invoice_day')['invoice_num'].count().plot.bar()\n",
        "# below code also give same result\n",
        "# df.pivot_table(index='invoice_day', values='invoice_num', aggfunc='count').plot.bar()"
      ],
      "execution_count": 41,
      "outputs": [
        {
          "output_type": "execute_result",
          "data": {
            "text/plain": [
              "<matplotlib.axes._subplots.AxesSubplot at 0x7f65b32adbe0>"
            ]
          },
          "metadata": {
            "tags": []
          },
          "execution_count": 41
        },
        {
          "output_type": "display_data",
          "data": {
            "image/png": "[encoded data removed]",
            "text/plain": [
              "<Figure size 432x288 with 1 Axes>"
            ]
          },
          "metadata": {
            "tags": [],
            "needs_background": "light"
          }
        }
      ]
    },
    {
      "cell_type": "code",
      "metadata": {
        "id": "IrbwOGTu_eG9",
        "colab_type": "code",
        "colab": {
          "base_uri": "https://localhost:8080/",
          "height": 441
        },
        "outputId": "89d83a34-06ab-478a-da2d-418589882440"
      },
      "source": [
        "tmp_df=df.query(\"total_amount<50\")\n",
        "# Scatter Plot:\n",
        "with sns.axes_style('white'):\n",
        "    sns.jointplot(\"invoice_day\", \"total_amount\", data=tmp_df, kind='hex', color='r')"
      ],
      "execution_count": 42,
      "outputs": [
        {
          "output_type": "display_data",
          "data": {
            "image/png": "[encoded data removed]",
            "text/plain": [
              "<Figure size 432x432 with 3 Axes>"
            ]
          },
          "metadata": {
            "tags": []
          }
        }
      ]
    },
    {
      "cell_type": "code",
      "metadata": {
        "id": "lgnSy1lCnif0",
        "colab_type": "code",
        "colab": {
          "base_uri": "https://localhost:8080/",
          "height": 300
        },
        "outputId": "6407eb7b-7de1-45b9-f341-746ce512aede"
      },
      "source": [
        "df.groupby('invoice_hour')['invoice_num'].count().plot.bar()\n",
        "# below code also give same result\n",
        "# df.pivot_table(index='invoice_hour', values='invoice_num', aggfunc='count').plot.bar()"
      ],
      "execution_count": 43,
      "outputs": [
        {
          "output_type": "execute_result",
          "data": {
            "text/plain": [
              "<matplotlib.axes._subplots.AxesSubplot at 0x7f65aecc34e0>"
            ]
          },
          "metadata": {
            "tags": []
          },
          "execution_count": 43
        },
        {
          "output_type": "display_data",
          "data": {
            "image/png": "[encoded data removed]",
            "text/plain": [
              "<Figure size 432x288 with 1 Axes>"
            ]
          },
          "metadata": {
            "tags": [],
            "needs_background": "light"
          }
        }
      ]
    },
    {
      "cell_type": "code",
      "metadata": {
        "id": "vT6sdr8Gn1OO",
        "colab_type": "code",
        "colab": {
          "base_uri": "https://localhost:8080/",
          "height": 345
        },
        "outputId": "070f4cf7-d916-4da9-d057-8580432b30d4"
      },
      "source": [
        "df.groupby('invoice_day_of_week')['invoice_num'].count().plot.bar()\n",
        "# below code also give same result\n",
        "# df.pivot_table(index='invoice_day_of_week', values='invoice_num', aggfunc='count').plot.bar()"
      ],
      "execution_count": 44,
      "outputs": [
        {
          "output_type": "execute_result",
          "data": {
            "text/plain": [
              "<matplotlib.axes._subplots.AxesSubplot at 0x7f65aebde080>"
            ]
          },
          "metadata": {
            "tags": []
          },
          "execution_count": 44
        },
        {
          "output_type": "display_data",
          "data": {
            "image/png": "[encoded data removed]",
            "text/plain": [
              "<Figure size 432x288 with 1 Axes>"
            ]
          },
          "metadata": {
            "tags": [],
            "needs_background": "light"
          }
        }
      ]
    },
    {
      "cell_type": "markdown",
      "metadata": {
        "id": "uugsNyTEmKOE",
        "colab_type": "text"
      },
      "source": [
        "#### 4. Month wise Free orders?"
      ]
    },
    {
      "cell_type": "code",
      "metadata": {
        "id": "59GOpUc9lpaV",
        "colab_type": "code",
        "colab": {
          "base_uri": "https://localhost:8080/",
          "height": 300
        },
        "outputId": "2d0103d7-9b88-4de2-a447-9a92f10f50b1"
      },
      "source": [
        "df.query('total_amount==0').groupby('invoice_month')['invoice_num'].count().plot.bar()\n",
        "# below code also give same result\n",
        "# df.query('total_amount==0').pivot_table(index='invoice_month', values='invoice_num', aggfunc='count').plot.bar()"
      ],
      "execution_count": 45,
      "outputs": [
        {
          "output_type": "execute_result",
          "data": {
            "text/plain": [
              "<matplotlib.axes._subplots.AxesSubplot at 0x7f65aec34278>"
            ]
          },
          "metadata": {
            "tags": []
          },
          "execution_count": 45
        },
        {
          "output_type": "display_data",
          "data": {
            "image/png": "[encoded data removed]",
            "text/plain": [
              "<Figure size 432x288 with 1 Axes>"
            ]
          },
          "metadata": {
            "tags": [],
            "needs_background": "light"
          }
        }
      ]
    },
    {
      "cell_type": "markdown",
      "metadata": {
        "id": "cj--RGYFT_X6",
        "colab_type": "text"
      },
      "source": [
        "## Step4.Test the hypotheses using T-test:\n",
        "\n",
        "The **null hypothesis** and **the alternative hypothesis** are formal methods of reaching conclusions or making decisions on the basis of incomplete information.\n",
        "\n",
        "*Usually, the null hypothesis is a statement of **'no effect'** or **'no difference'**.*\n",
        "\n",
        "Most common T - test method available from scipy:\n",
        "\n",
        "* **st.ttest_1samp**: compare population mean with given value \n",
        "* **st.ttest_ind**: compare two population(distribution) mean by taking independent sample \n",
        "* **st.ttest_rel**: compare two population(distribution) mean by taking relative/paired sample"
      ]
    },
    {
      "cell_type": "markdown",
      "metadata": {
        "id": "ASs1qwF3aJi5",
        "colab_type": "text"
      },
      "source": [
        "\n",
        "### Test1. The average profit from users of France and Germany different.\n",
        "Null Hypothesis: **There is no difference between the avearge profit from France and Germany**"
      ]
    },
    {
      "cell_type": "code",
      "metadata": {
        "id": "KdRdybmRVZh3",
        "colab_type": "code",
        "colab": {}
      },
      "source": [
        "profit_germany = df.query('country==\"Germany\"')['total_amount']\n",
        "profit_france = df.query('country==\"France\"')['total_amount']\n",
        "alpha = .05 # critical statistical significance level"
      ],
      "execution_count": 34,
      "outputs": []
    },
    {
      "cell_type": "code",
      "metadata": {
        "id": "TbSX_8FHUEj5",
        "colab_type": "code",
        "colab": {}
      },
      "source": [
        "\"\"\"\n",
        "This is a two-sided test for the null hypothesis that 2 independent samples have \n",
        "identical average (expected) values. This test assumes that the populations have \n",
        "identical variances by default.\n",
        "\"\"\"\n",
        "results = st.ttest_ind(\n",
        "        profit_germany, \n",
        "        profit_france\n",
        ")"
      ],
      "execution_count": 35,
      "outputs": []
    },
    {
      "cell_type": "code",
      "metadata": {
        "id": "ZJYTSSx-VYeb",
        "colab_type": "code",
        "colab": {
          "base_uri": "https://localhost:8080/",
          "height": 50
        },
        "outputId": "a00b9fb8-1ed8-458c-e479-d1b802714e1e"
      },
      "source": [
        "print('p-value: ', results.pvalue)\n",
        "\n",
        "if (results.pvalue < alpha):\n",
        "        print(\"We reject the null hypothesis\")\n",
        "else:\n",
        "        print(\"We can't reject the null hypothesis\")"
      ],
      "execution_count": 36,
      "outputs": [
        {
          "output_type": "stream",
          "text": [
            "p-value:  0.7824016435151694\n",
            "We can't reject the null hypothesis\n"
          ],
          "name": "stdout"
        }
      ]
    },
    {
      "cell_type": "markdown",
      "metadata": {
        "id": "l50Tn0mxXd7J",
        "colab_type": "text"
      },
      "source": [
        "### Test2. The average profit from users of USA and Netherlands different.\n",
        "Null Hypothesis: **There is no difference between the avearage profit of USA and Netherland**"
      ]
    },
    {
      "cell_type": "code",
      "metadata": {
        "id": "KUwxr6uPXXEm",
        "colab_type": "code",
        "colab": {}
      },
      "source": [
        "profit_usa = df.query('country==\"USA\" and total_amount>0')['total_amount']\n",
        "profit_netherlands = df.query('country==\"Netherlands\" and total_amount>0')['total_amount']\n",
        "alpha = .05 # critical statistical significance level"
      ],
      "execution_count": 37,
      "outputs": []
    },
    {
      "cell_type": "code",
      "metadata": {
        "id": "fi__Q_lMX3KA",
        "colab_type": "code",
        "colab": {}
      },
      "source": [
        "results = st.ttest_ind(\n",
        "        profit_usa, \n",
        "        profit_netherlands\n",
        ")"
      ],
      "execution_count": 38,
      "outputs": []
    },
    {
      "cell_type": "code",
      "metadata": {
        "id": "i7JwJ-wyYktz",
        "colab_type": "code",
        "colab": {
          "base_uri": "https://localhost:8080/",
          "height": 50
        },
        "outputId": "3a7f11c0-a852-42fd-e68b-df89486e834f"
      },
      "source": [
        "print('p-value: ', results.pvalue)\n",
        "if (results.pvalue < alpha):\n",
        "        print(\"We reject the null hypothesis\")\n",
        "else:\n",
        "        print(\"We can't reject the null hypothesis\")"
      ],
      "execution_count": 39,
      "outputs": [
        {
          "output_type": "stream",
          "text": [
            "p-value:  2.882256909468613e-16\n",
            "We reject the null hypothesis\n"
          ],
          "name": "stdout"
        }
      ]
    },
    {
      "cell_type": "markdown",
      "metadata": {
        "id": "rDppssdy5SfO",
        "colab_type": "text"
      },
      "source": [
        "Blogs:\n",
        "* [Pivot Table](https://towardsdatascience.com/a-step-by-step-guide-to-pandas-pivot-tables-e0641d0c6c70)\n",
        "* [Hypothesis Testing](https://towardsdatascience.com/everything-you-need-to-know-about-hypothesis-testing-part-i-4de9abebbc8a#:~:text=is%20not%20interesting.-,It%20is%20the%20interpretation%20of%20the%20data%20that%20we%20are,supported%20by%20the%20sample%20data.)"
      ]
    },
    {
      "cell_type": "markdown",
      "metadata": {
        "id": "cW2HNHQW42h4",
        "colab_type": "text"
      },
      "source": [
        "Connect:\n",
        "* [Github](https://github.com/bhadreshpsavani)\n",
        "* [Linkdin](https://www.linkedin.com/in/bhadreshsavani/)"
      ]
    },
    {
      "cell_type": "markdown",
      "metadata": {
        "id": "4uYUzM7J6wep",
        "colab_type": "text"
      },
      "source": [
        "# Thanks you!"
      ]
    },
    {
      "cell_type": "code",
      "metadata": {
        "id": "Hyd6_vOK1jcq",
        "colab_type": "code",
        "colab": {}
      },
      "source": [
        ""
      ],
      "execution_count": null,
      "outputs": []
    }
  ]
}