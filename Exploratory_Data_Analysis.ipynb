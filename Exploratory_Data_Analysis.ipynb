{
  "nbformat": 4,
  "nbformat_minor": 0,
  "metadata": {
    "colab": {
      "name": "Exploratory_Data_Analysis.ipynb",
      "provenance": [],
      "toc_visible": true,
      "authorship_tag": "ABX9TyO1p3cmrvv5kJHSYfBsJlxE",
      "include_colab_link": true
    },
    "kernelspec": {
      "name": "python3",
      "display_name": "Python 3"
    }
  },
  "cells": [
    {
      "cell_type": "markdown",
      "metadata": {
        "id": "view-in-github",
        "colab_type": "text"
      },
      "source": [
        "<a href=\"https://colab.research.google.com/github/bhadreshpsavani/ExploringDataScience/blob/master/Exploratory_Data_Analysis.ipynb\" target=\"_parent\"><img src=\"https://colab.research.google.com/assets/colab-badge.svg\" alt=\"Open In Colab\"/></a>"
      ]
    },
    {
      "cell_type": "markdown",
      "metadata": {
        "id": "XCwBkYMGlCRy",
        "colab_type": "text"
      },
      "source": [
        "## Introduction to Exploratory Data Analysis(EDA):\n",
        "An approach to analyse and find characteristics and interesting patterns in the data\n",
        "1. Make Data in Representable\n",
        "2. Find Pattern\n",
        "3. Spot Anomaly\n",
        "4. Test Hypothesis\n",
        "5. Check Assumptions\n",
        "\n",
        "Data Scientist roughly spend around 40-50% of their time in EDA\n",
        "\n",
        "## Step1. Import Modules"
      ]
    },
    {
      "cell_type": "code",
      "metadata": {
        "id": "KUWfsapJjjGR",
        "colab_type": "code",
        "colab": {}
      },
      "source": [
        "import numpy as np\n",
        "import pandas as pd\n",
        "import seaborn as sns\n",
        "\n",
        "# to ignore warnings\n",
        "import warnings\n",
        "warnings.filterwarnings('ignore')"
      ],
      "execution_count": 19,
      "outputs": []
    },
    {
      "cell_type": "markdown",
      "metadata": {
        "id": "dhdIDiKLqOy4",
        "colab_type": "text"
      },
      "source": [
        "## Step2. Loading Data"
      ]
    },
    {
      "cell_type": "code",
      "metadata": {
        "id": "4dmkvYoUw-V4",
        "colab_type": "code",
        "colab": {
          "base_uri": "https://localhost:8080/",
          "height": 118
        },
        "outputId": "70e97777-a887-47dc-955f-860b643f220d"
      },
      "source": [
        "!git clone https://github.com/bhadreshpsavani/ExploringDataScience.git"
      ],
      "execution_count": 2,
      "outputs": [
        {
          "output_type": "stream",
          "text": [
            "Cloning into 'ExploringDataScience'...\n",
            "remote: Enumerating objects: 32, done.\u001b[K\n",
            "remote: Counting objects: 100% (32/32), done.\u001b[K\n",
            "remote: Compressing objects: 100% (28/28), done.\u001b[K\n",
            "remote: Total 32 (delta 8), reused 7 (delta 1), pack-reused 0\u001b[K\n",
            "Unpacking objects: 100% (32/32), done.\n"
          ],
          "name": "stdout"
        }
      ]
    },
    {
      "cell_type": "code",
      "metadata": {
        "id": "gbFGntodxEUL",
        "colab_type": "code",
        "colab": {}
      },
      "source": [
        "df = pd.read_csv('/content/ExploringDataScience/Dataset/StudentsPerformance.csv')"
      ],
      "execution_count": 5,
      "outputs": []
    },
    {
      "cell_type": "markdown",
      "metadata": {
        "id": "st8buMJoqqxd",
        "colab_type": "text"
      },
      "source": [
        "## Step3. Exploring Features"
      ]
    },
    {
      "cell_type": "code",
      "metadata": {
        "id": "Z8U_3satxNcU",
        "colab_type": "code",
        "colab": {
          "base_uri": "https://localhost:8080/",
          "height": 195
        },
        "outputId": "d6b2487c-b552-4ecc-a070-d9c7f93baeec"
      },
      "source": [
        "df.head()"
      ],
      "execution_count": 6,
      "outputs": [
        {
          "output_type": "execute_result",
          "data": {
            "text/html": [
              "<div>\n",
              "<style scoped>\n",
              "    .dataframe tbody tr th:only-of-type {\n",
              "        vertical-align: middle;\n",
              "    }\n",
              "\n",
              "    .dataframe tbody tr th {\n",
              "        vertical-align: top;\n",
              "    }\n",
              "\n",
              "    .dataframe thead th {\n",
              "        text-align: right;\n",
              "    }\n",
              "</style>\n",
              "<table border=\"1\" class=\"dataframe\">\n",
              "  <thead>\n",
              "    <tr style=\"text-align: right;\">\n",
              "      <th></th>\n",
              "      <th>gender</th>\n",
              "      <th>race/ethnicity</th>\n",
              "      <th>parental level of education</th>\n",
              "      <th>lunch</th>\n",
              "      <th>test preparation course</th>\n",
              "      <th>math score</th>\n",
              "      <th>reading score</th>\n",
              "      <th>writing score</th>\n",
              "    </tr>\n",
              "  </thead>\n",
              "  <tbody>\n",
              "    <tr>\n",
              "      <th>0</th>\n",
              "      <td>female</td>\n",
              "      <td>group B</td>\n",
              "      <td>bachelor's degree</td>\n",
              "      <td>standard</td>\n",
              "      <td>none</td>\n",
              "      <td>72</td>\n",
              "      <td>72</td>\n",
              "      <td>74</td>\n",
              "    </tr>\n",
              "    <tr>\n",
              "      <th>1</th>\n",
              "      <td>female</td>\n",
              "      <td>group C</td>\n",
              "      <td>some college</td>\n",
              "      <td>standard</td>\n",
              "      <td>completed</td>\n",
              "      <td>69</td>\n",
              "      <td>90</td>\n",
              "      <td>88</td>\n",
              "    </tr>\n",
              "    <tr>\n",
              "      <th>2</th>\n",
              "      <td>female</td>\n",
              "      <td>group B</td>\n",
              "      <td>master's degree</td>\n",
              "      <td>standard</td>\n",
              "      <td>none</td>\n",
              "      <td>90</td>\n",
              "      <td>95</td>\n",
              "      <td>93</td>\n",
              "    </tr>\n",
              "    <tr>\n",
              "      <th>3</th>\n",
              "      <td>male</td>\n",
              "      <td>group A</td>\n",
              "      <td>associate's degree</td>\n",
              "      <td>free/reduced</td>\n",
              "      <td>none</td>\n",
              "      <td>47</td>\n",
              "      <td>57</td>\n",
              "      <td>44</td>\n",
              "    </tr>\n",
              "    <tr>\n",
              "      <th>4</th>\n",
              "      <td>male</td>\n",
              "      <td>group C</td>\n",
              "      <td>some college</td>\n",
              "      <td>standard</td>\n",
              "      <td>none</td>\n",
              "      <td>76</td>\n",
              "      <td>78</td>\n",
              "      <td>75</td>\n",
              "    </tr>\n",
              "  </tbody>\n",
              "</table>\n",
              "</div>"
            ],
            "text/plain": [
              "   gender race/ethnicity  ... reading score writing score\n",
              "0  female        group B  ...            72            74\n",
              "1  female        group C  ...            90            88\n",
              "2  female        group B  ...            95            93\n",
              "3    male        group A  ...            57            44\n",
              "4    male        group C  ...            78            75\n",
              "\n",
              "[5 rows x 8 columns]"
            ]
          },
          "metadata": {
            "tags": []
          },
          "execution_count": 6
        }
      ]
    },
    {
      "cell_type": "code",
      "metadata": {
        "id": "34z3e6vVxP7L",
        "colab_type": "code",
        "colab": {
          "base_uri": "https://localhost:8080/",
          "height": 269
        },
        "outputId": "658e871b-c3a1-4e93-ba03-158196951f94"
      },
      "source": [
        "df.info()"
      ],
      "execution_count": 7,
      "outputs": [
        {
          "output_type": "stream",
          "text": [
            "<class 'pandas.core.frame.DataFrame'>\n",
            "RangeIndex: 1000 entries, 0 to 999\n",
            "Data columns (total 8 columns):\n",
            " #   Column                       Non-Null Count  Dtype \n",
            "---  ------                       --------------  ----- \n",
            " 0   gender                       1000 non-null   object\n",
            " 1   race/ethnicity               1000 non-null   object\n",
            " 2   parental level of education  1000 non-null   object\n",
            " 3   lunch                        1000 non-null   object\n",
            " 4   test preparation course      1000 non-null   object\n",
            " 5   math score                   1000 non-null   int64 \n",
            " 6   reading score                1000 non-null   int64 \n",
            " 7   writing score                1000 non-null   int64 \n",
            "dtypes: int64(3), object(5)\n",
            "memory usage: 62.6+ KB\n"
          ],
          "name": "stdout"
        }
      ]
    },
    {
      "cell_type": "markdown",
      "metadata": {
        "id": "4WylO3VrxWmC",
        "colab_type": "text"
      },
      "source": [
        "We have eight columns with no missing values"
      ]
    },
    {
      "cell_type": "code",
      "metadata": {
        "id": "POs7LArDxoqu",
        "colab_type": "code",
        "colab": {
          "base_uri": "https://localhost:8080/",
          "height": 284
        },
        "outputId": "b712230f-066e-4a96-883c-bef690897b82"
      },
      "source": [
        "df.describe()"
      ],
      "execution_count": 8,
      "outputs": [
        {
          "output_type": "execute_result",
          "data": {
            "text/html": [
              "<div>\n",
              "<style scoped>\n",
              "    .dataframe tbody tr th:only-of-type {\n",
              "        vertical-align: middle;\n",
              "    }\n",
              "\n",
              "    .dataframe tbody tr th {\n",
              "        vertical-align: top;\n",
              "    }\n",
              "\n",
              "    .dataframe thead th {\n",
              "        text-align: right;\n",
              "    }\n",
              "</style>\n",
              "<table border=\"1\" class=\"dataframe\">\n",
              "  <thead>\n",
              "    <tr style=\"text-align: right;\">\n",
              "      <th></th>\n",
              "      <th>math score</th>\n",
              "      <th>reading score</th>\n",
              "      <th>writing score</th>\n",
              "    </tr>\n",
              "  </thead>\n",
              "  <tbody>\n",
              "    <tr>\n",
              "      <th>count</th>\n",
              "      <td>1000.00000</td>\n",
              "      <td>1000.000000</td>\n",
              "      <td>1000.000000</td>\n",
              "    </tr>\n",
              "    <tr>\n",
              "      <th>mean</th>\n",
              "      <td>66.08900</td>\n",
              "      <td>69.169000</td>\n",
              "      <td>68.054000</td>\n",
              "    </tr>\n",
              "    <tr>\n",
              "      <th>std</th>\n",
              "      <td>15.16308</td>\n",
              "      <td>14.600192</td>\n",
              "      <td>15.195657</td>\n",
              "    </tr>\n",
              "    <tr>\n",
              "      <th>min</th>\n",
              "      <td>0.00000</td>\n",
              "      <td>17.000000</td>\n",
              "      <td>10.000000</td>\n",
              "    </tr>\n",
              "    <tr>\n",
              "      <th>25%</th>\n",
              "      <td>57.00000</td>\n",
              "      <td>59.000000</td>\n",
              "      <td>57.750000</td>\n",
              "    </tr>\n",
              "    <tr>\n",
              "      <th>50%</th>\n",
              "      <td>66.00000</td>\n",
              "      <td>70.000000</td>\n",
              "      <td>69.000000</td>\n",
              "    </tr>\n",
              "    <tr>\n",
              "      <th>75%</th>\n",
              "      <td>77.00000</td>\n",
              "      <td>79.000000</td>\n",
              "      <td>79.000000</td>\n",
              "    </tr>\n",
              "    <tr>\n",
              "      <th>max</th>\n",
              "      <td>100.00000</td>\n",
              "      <td>100.000000</td>\n",
              "      <td>100.000000</td>\n",
              "    </tr>\n",
              "  </tbody>\n",
              "</table>\n",
              "</div>"
            ],
            "text/plain": [
              "       math score  reading score  writing score\n",
              "count  1000.00000    1000.000000    1000.000000\n",
              "mean     66.08900      69.169000      68.054000\n",
              "std      15.16308      14.600192      15.195657\n",
              "min       0.00000      17.000000      10.000000\n",
              "25%      57.00000      59.000000      57.750000\n",
              "50%      66.00000      70.000000      69.000000\n",
              "75%      77.00000      79.000000      79.000000\n",
              "max     100.00000     100.000000     100.000000"
            ]
          },
          "metadata": {
            "tags": []
          },
          "execution_count": 8
        }
      ]
    },
    {
      "cell_type": "code",
      "metadata": {
        "id": "HADLIoRbx8sL",
        "colab_type": "code",
        "colab": {
          "base_uri": "https://localhost:8080/",
          "height": 67
        },
        "outputId": "f603e861-1c7d-4bc2-b9b6-06ea6cc3c1e9"
      },
      "source": [
        "df.gender.value_counts()"
      ],
      "execution_count": 9,
      "outputs": [
        {
          "output_type": "execute_result",
          "data": {
            "text/plain": [
              "female    518\n",
              "male      482\n",
              "Name: gender, dtype: int64"
            ]
          },
          "metadata": {
            "tags": []
          },
          "execution_count": 9
        }
      ]
    },
    {
      "cell_type": "code",
      "metadata": {
        "id": "lNWAhZ5DyIqe",
        "colab_type": "code",
        "colab": {}
      },
      "source": [
        "df.columns = ['gender', \n",
        "              'race_or_ethnicity', \n",
        "              'parental_level_of_education', \n",
        "              'lunch', \n",
        "              'test_preparation_course',\n",
        "              'math_score',\n",
        "              'reading_score',\n",
        "              'writing_score']"
      ],
      "execution_count": 10,
      "outputs": []
    },
    {
      "cell_type": "code",
      "metadata": {
        "id": "vAcZ272iy62O",
        "colab_type": "code",
        "colab": {
          "base_uri": "https://localhost:8080/",
          "height": 118
        },
        "outputId": "8bd82e9a-f888-4439-820c-fb5e6b1bf1e6"
      },
      "source": [
        "df.race_or_ethnicity.value_counts()"
      ],
      "execution_count": 11,
      "outputs": [
        {
          "output_type": "execute_result",
          "data": {
            "text/plain": [
              "group C    319\n",
              "group D    262\n",
              "group B    190\n",
              "group E    140\n",
              "group A     89\n",
              "Name: race_or_ethnicity, dtype: int64"
            ]
          },
          "metadata": {
            "tags": []
          },
          "execution_count": 11
        }
      ]
    },
    {
      "cell_type": "code",
      "metadata": {
        "id": "sqSp9h5QzCTW",
        "colab_type": "code",
        "colab": {
          "base_uri": "https://localhost:8080/",
          "height": 134
        },
        "outputId": "9c4f59f9-6e3a-4e5f-93ad-92a60590495b"
      },
      "source": [
        "df.parental_level_of_education.value_counts()"
      ],
      "execution_count": 12,
      "outputs": [
        {
          "output_type": "execute_result",
          "data": {
            "text/plain": [
              "some college          226\n",
              "associate's degree    222\n",
              "high school           196\n",
              "some high school      179\n",
              "bachelor's degree     118\n",
              "master's degree        59\n",
              "Name: parental_level_of_education, dtype: int64"
            ]
          },
          "metadata": {
            "tags": []
          },
          "execution_count": 12
        }
      ]
    },
    {
      "cell_type": "code",
      "metadata": {
        "id": "xt0vW4smzOVb",
        "colab_type": "code",
        "colab": {
          "base_uri": "https://localhost:8080/",
          "height": 67
        },
        "outputId": "88843805-9a0c-4e1e-aa61-2547e4c4b86b"
      },
      "source": [
        "df.lunch.value_counts()"
      ],
      "execution_count": 13,
      "outputs": [
        {
          "output_type": "execute_result",
          "data": {
            "text/plain": [
              "standard        645\n",
              "free/reduced    355\n",
              "Name: lunch, dtype: int64"
            ]
          },
          "metadata": {
            "tags": []
          },
          "execution_count": 13
        }
      ]
    },
    {
      "cell_type": "code",
      "metadata": {
        "id": "g_oAgicizXHy",
        "colab_type": "code",
        "colab": {
          "base_uri": "https://localhost:8080/",
          "height": 67
        },
        "outputId": "40307712-eaa2-4201-ec9b-011d803b4b7d"
      },
      "source": [
        "df.test_preparation_course.value_counts()"
      ],
      "execution_count": 14,
      "outputs": [
        {
          "output_type": "execute_result",
          "data": {
            "text/plain": [
              "none         642\n",
              "completed    358\n",
              "Name: test_preparation_course, dtype: int64"
            ]
          },
          "metadata": {
            "tags": []
          },
          "execution_count": 14
        }
      ]
    },
    {
      "cell_type": "markdown",
      "metadata": {
        "id": "cV8gmAogzfWz",
        "colab_type": "text"
      },
      "source": [
        "## Conclusion:\n",
        "* Our data don't have any missing values"
      ]
    },
    {
      "cell_type": "code",
      "metadata": {
        "id": "_FZQ8WD7BAjy",
        "colab_type": "code",
        "colab": {}
      },
      "source": [
        "df['final_score'] = df['math_score']+\tdf['reading_score'] +\tdf['writing_score']"
      ],
      "execution_count": 16,
      "outputs": []
    },
    {
      "cell_type": "code",
      "metadata": {
        "id": "3rcfBPOYCb5x",
        "colab_type": "code",
        "colab": {}
      },
      "source": [
        "def result(row):\n",
        "  if row['math_score']>50 and row['reading_score']>50 and row['writing_score']>50:\n",
        "    return 1\n",
        "  else:\n",
        "    return 0"
      ],
      "execution_count": 39,
      "outputs": []
    },
    {
      "cell_type": "code",
      "metadata": {
        "id": "VVA4QTP2Cv7I",
        "colab_type": "code",
        "colab": {
          "base_uri": "https://localhost:8080/",
          "height": 215
        },
        "outputId": "f28aa0d6-beeb-424d-cc3f-9653b268f98d"
      },
      "source": [
        "df['result'] = df.apply(result, axis=1)\n",
        "df.head()"
      ],
      "execution_count": 40,
      "outputs": [
        {
          "output_type": "execute_result",
          "data": {
            "text/html": [
              "<div>\n",
              "<style scoped>\n",
              "    .dataframe tbody tr th:only-of-type {\n",
              "        vertical-align: middle;\n",
              "    }\n",
              "\n",
              "    .dataframe tbody tr th {\n",
              "        vertical-align: top;\n",
              "    }\n",
              "\n",
              "    .dataframe thead th {\n",
              "        text-align: right;\n",
              "    }\n",
              "</style>\n",
              "<table border=\"1\" class=\"dataframe\">\n",
              "  <thead>\n",
              "    <tr style=\"text-align: right;\">\n",
              "      <th></th>\n",
              "      <th>gender</th>\n",
              "      <th>race_or_ethnicity</th>\n",
              "      <th>parental_level_of_education</th>\n",
              "      <th>lunch</th>\n",
              "      <th>test_preparation_course</th>\n",
              "      <th>math_score</th>\n",
              "      <th>reading_score</th>\n",
              "      <th>writing_score</th>\n",
              "      <th>final_score</th>\n",
              "      <th>result</th>\n",
              "    </tr>\n",
              "  </thead>\n",
              "  <tbody>\n",
              "    <tr>\n",
              "      <th>0</th>\n",
              "      <td>female</td>\n",
              "      <td>group B</td>\n",
              "      <td>bachelor's degree</td>\n",
              "      <td>standard</td>\n",
              "      <td>none</td>\n",
              "      <td>72</td>\n",
              "      <td>72</td>\n",
              "      <td>74</td>\n",
              "      <td>218</td>\n",
              "      <td>1</td>\n",
              "    </tr>\n",
              "    <tr>\n",
              "      <th>1</th>\n",
              "      <td>female</td>\n",
              "      <td>group C</td>\n",
              "      <td>some college</td>\n",
              "      <td>standard</td>\n",
              "      <td>completed</td>\n",
              "      <td>69</td>\n",
              "      <td>90</td>\n",
              "      <td>88</td>\n",
              "      <td>247</td>\n",
              "      <td>1</td>\n",
              "    </tr>\n",
              "    <tr>\n",
              "      <th>2</th>\n",
              "      <td>female</td>\n",
              "      <td>group B</td>\n",
              "      <td>master's degree</td>\n",
              "      <td>standard</td>\n",
              "      <td>none</td>\n",
              "      <td>90</td>\n",
              "      <td>95</td>\n",
              "      <td>93</td>\n",
              "      <td>278</td>\n",
              "      <td>1</td>\n",
              "    </tr>\n",
              "    <tr>\n",
              "      <th>3</th>\n",
              "      <td>male</td>\n",
              "      <td>group A</td>\n",
              "      <td>associate's degree</td>\n",
              "      <td>free/reduced</td>\n",
              "      <td>none</td>\n",
              "      <td>47</td>\n",
              "      <td>57</td>\n",
              "      <td>44</td>\n",
              "      <td>148</td>\n",
              "      <td>0</td>\n",
              "    </tr>\n",
              "    <tr>\n",
              "      <th>4</th>\n",
              "      <td>male</td>\n",
              "      <td>group C</td>\n",
              "      <td>some college</td>\n",
              "      <td>standard</td>\n",
              "      <td>none</td>\n",
              "      <td>76</td>\n",
              "      <td>78</td>\n",
              "      <td>75</td>\n",
              "      <td>229</td>\n",
              "      <td>1</td>\n",
              "    </tr>\n",
              "  </tbody>\n",
              "</table>\n",
              "</div>"
            ],
            "text/plain": [
              "   gender race_or_ethnicity  ... final_score result\n",
              "0  female           group B  ...         218      1\n",
              "1  female           group C  ...         247      1\n",
              "2  female           group B  ...         278      1\n",
              "3    male           group A  ...         148      0\n",
              "4    male           group C  ...         229      1\n",
              "\n",
              "[5 rows x 10 columns]"
            ]
          },
          "metadata": {
            "tags": []
          },
          "execution_count": 40
        }
      ]
    },
    {
      "cell_type": "markdown",
      "metadata": {
        "id": "NicTDBxurMrc",
        "colab_type": "text"
      },
      "source": [
        "## Step6. Data Visulization"
      ]
    },
    {
      "cell_type": "markdown",
      "metadata": {
        "id": "54FaCvGNo8W9",
        "colab_type": "text"
      },
      "source": [
        "Some Common Plots Used for EDA:\n",
        "* Histograms\n",
        "* Scatter Plots\n",
        "* Pair Plots\n",
        "* Box Plots\n",
        "* Pivot table"
      ]
    },
    {
      "cell_type": "markdown",
      "metadata": {
        "id": "NCCVzPkjBlvY",
        "colab_type": "text"
      },
      "source": [
        "### 1. Histogram:\n"
      ]
    },
    {
      "cell_type": "code",
      "metadata": {
        "id": "-wqhjwK-B0n0",
        "colab_type": "code",
        "colab": {
          "base_uri": "https://localhost:8080/",
          "height": 297
        },
        "outputId": "3de7dea0-cb92-4028-a74d-c0f1a6ac8a25"
      },
      "source": [
        "sns.distplot(df['final_score'])"
      ],
      "execution_count": 42,
      "outputs": [
        {
          "output_type": "execute_result",
          "data": {
            "text/plain": [
              "<matplotlib.axes._subplots.AxesSubplot at 0x7fd588709908>"
            ]
          },
          "metadata": {
            "tags": []
          },
          "execution_count": 42
        },
        {
          "output_type": "display_data",
          "data": {
            "image/png": "[encoded data removed]",
            "text/plain": [
              "<Figure size 432x288 with 1 Axes>"
            ]
          },
          "metadata": {
            "tags": [],
            "needs_background": "light"
          }
        }
      ]
    },
    {
      "cell_type": "code",
      "metadata": {
        "id": "Ovoqw8wBDJ9A",
        "colab_type": "code",
        "colab": {
          "base_uri": "https://localhost:8080/",
          "height": 254
        },
        "outputId": "533a3fd9-2269-4e83-f782-7734f46dfe99"
      },
      "source": [
        "df.pivot_table(index='parental_level_of_education', values='result')"
      ],
      "execution_count": 43,
      "outputs": [
        {
          "output_type": "execute_result",
          "data": {
            "text/html": [
              "<div>\n",
              "<style scoped>\n",
              "    .dataframe tbody tr th:only-of-type {\n",
              "        vertical-align: middle;\n",
              "    }\n",
              "\n",
              "    .dataframe tbody tr th {\n",
              "        vertical-align: top;\n",
              "    }\n",
              "\n",
              "    .dataframe thead th {\n",
              "        text-align: right;\n",
              "    }\n",
              "</style>\n",
              "<table border=\"1\" class=\"dataframe\">\n",
              "  <thead>\n",
              "    <tr style=\"text-align: right;\">\n",
              "      <th></th>\n",
              "      <th>result</th>\n",
              "    </tr>\n",
              "    <tr>\n",
              "      <th>parental_level_of_education</th>\n",
              "      <th></th>\n",
              "    </tr>\n",
              "  </thead>\n",
              "  <tbody>\n",
              "    <tr>\n",
              "      <th>associate's degree</th>\n",
              "      <td>0.842342</td>\n",
              "    </tr>\n",
              "    <tr>\n",
              "      <th>bachelor's degree</th>\n",
              "      <td>0.855932</td>\n",
              "    </tr>\n",
              "    <tr>\n",
              "      <th>high school</th>\n",
              "      <td>0.719388</td>\n",
              "    </tr>\n",
              "    <tr>\n",
              "      <th>master's degree</th>\n",
              "      <td>0.847458</td>\n",
              "    </tr>\n",
              "    <tr>\n",
              "      <th>some college</th>\n",
              "      <td>0.827434</td>\n",
              "    </tr>\n",
              "    <tr>\n",
              "      <th>some high school</th>\n",
              "      <td>0.726257</td>\n",
              "    </tr>\n",
              "  </tbody>\n",
              "</table>\n",
              "</div>"
            ],
            "text/plain": [
              "                               result\n",
              "parental_level_of_education          \n",
              "associate's degree           0.842342\n",
              "bachelor's degree            0.855932\n",
              "high school                  0.719388\n",
              "master's degree              0.847458\n",
              "some college                 0.827434\n",
              "some high school             0.726257"
            ]
          },
          "metadata": {
            "tags": []
          },
          "execution_count": 43
        }
      ]
    },
    {
      "cell_type": "code",
      "metadata": {
        "id": "61Xb1qDfEy21",
        "colab_type": "code",
        "colab": {
          "base_uri": "https://localhost:8080/",
          "height": 254
        },
        "outputId": "af99c398-d4c0-4c58-9e25-0b6677982cde"
      },
      "source": [
        "df.pivot_table(index='parental_level_of_education', columns='race_or_ethnicity', values='result')*100"
      ],
      "execution_count": 46,
      "outputs": [
        {
          "output_type": "execute_result",
          "data": {
            "text/html": [
              "<div>\n",
              "<style scoped>\n",
              "    .dataframe tbody tr th:only-of-type {\n",
              "        vertical-align: middle;\n",
              "    }\n",
              "\n",
              "    .dataframe tbody tr th {\n",
              "        vertical-align: top;\n",
              "    }\n",
              "\n",
              "    .dataframe thead th {\n",
              "        text-align: right;\n",
              "    }\n",
              "</style>\n",
              "<table border=\"1\" class=\"dataframe\">\n",
              "  <thead>\n",
              "    <tr style=\"text-align: right;\">\n",
              "      <th>race_or_ethnicity</th>\n",
              "      <th>group A</th>\n",
              "      <th>group B</th>\n",
              "      <th>group C</th>\n",
              "      <th>group D</th>\n",
              "      <th>group E</th>\n",
              "    </tr>\n",
              "    <tr>\n",
              "      <th>parental_level_of_education</th>\n",
              "      <th></th>\n",
              "      <th></th>\n",
              "      <th></th>\n",
              "      <th></th>\n",
              "      <th></th>\n",
              "    </tr>\n",
              "  </thead>\n",
              "  <tbody>\n",
              "    <tr>\n",
              "      <th>associate's degree</th>\n",
              "      <td>64.285714</td>\n",
              "      <td>82.926829</td>\n",
              "      <td>88.461538</td>\n",
              "      <td>80.000000</td>\n",
              "      <td>89.743590</td>\n",
              "    </tr>\n",
              "    <tr>\n",
              "      <th>bachelor's degree</th>\n",
              "      <td>75.000000</td>\n",
              "      <td>95.000000</td>\n",
              "      <td>82.500000</td>\n",
              "      <td>82.142857</td>\n",
              "      <td>94.444444</td>\n",
              "    </tr>\n",
              "    <tr>\n",
              "      <th>high school</th>\n",
              "      <td>61.111111</td>\n",
              "      <td>62.500000</td>\n",
              "      <td>75.000000</td>\n",
              "      <td>72.727273</td>\n",
              "      <td>90.909091</td>\n",
              "    </tr>\n",
              "    <tr>\n",
              "      <th>master's degree</th>\n",
              "      <td>33.333333</td>\n",
              "      <td>83.333333</td>\n",
              "      <td>84.210526</td>\n",
              "      <td>91.304348</td>\n",
              "      <td>87.500000</td>\n",
              "    </tr>\n",
              "    <tr>\n",
              "      <th>some college</th>\n",
              "      <td>77.777778</td>\n",
              "      <td>72.972973</td>\n",
              "      <td>79.710145</td>\n",
              "      <td>89.552239</td>\n",
              "      <td>88.571429</td>\n",
              "    </tr>\n",
              "    <tr>\n",
              "      <th>some high school</th>\n",
              "      <td>45.833333</td>\n",
              "      <td>76.315789</td>\n",
              "      <td>71.428571</td>\n",
              "      <td>80.000000</td>\n",
              "      <td>83.333333</td>\n",
              "    </tr>\n",
              "  </tbody>\n",
              "</table>\n",
              "</div>"
            ],
            "text/plain": [
              "race_or_ethnicity              group A    group B  ...    group D    group E\n",
              "parental_level_of_education                        ...                      \n",
              "associate's degree           64.285714  82.926829  ...  80.000000  89.743590\n",
              "bachelor's degree            75.000000  95.000000  ...  82.142857  94.444444\n",
              "high school                  61.111111  62.500000  ...  72.727273  90.909091\n",
              "master's degree              33.333333  83.333333  ...  91.304348  87.500000\n",
              "some college                 77.777778  72.972973  ...  89.552239  88.571429\n",
              "some high school             45.833333  76.315789  ...  80.000000  83.333333\n",
              "\n",
              "[6 rows x 5 columns]"
            ]
          },
          "metadata": {
            "tags": []
          },
          "execution_count": 46
        }
      ]
    },
    {
      "cell_type": "markdown",
      "metadata": {
        "id": "Q1UUNDTvrZ1P",
        "colab_type": "text"
      },
      "source": [
        "## Step6. Hypothesis Testing"
      ]
    },
    {
      "cell_type": "markdown",
      "metadata": {
        "id": "JYuC3Nw_piBu",
        "colab_type": "text"
      },
      "source": [
        "## Resources:\n",
        "* [summarising-aggregation-and-grouping-data-in-python-pandas](https://www.shanelynn.ie/summarising-aggregation-and-grouping-data-in-python-pandas/)"
      ]
    },
    {
      "cell_type": "code",
      "metadata": {
        "id": "a2bL55zPpjl_",
        "colab_type": "code",
        "colab": {}
      },
      "source": [
        ""
      ],
      "execution_count": null,
      "outputs": []
    }
  ]
}